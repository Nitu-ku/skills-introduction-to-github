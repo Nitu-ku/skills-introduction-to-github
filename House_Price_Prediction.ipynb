{
<<<<<<< HEAD
  "cells": [
    {
      "cell_type": "code",
      "execution_count": null,
=======
  "nbformat": 4,
  "nbformat_minor": 0,
  "metadata": {
    "colab": {
      "provenance": [],
      "authorship_tag": "ABX9TyOEjLfGr8hGVDHWq+0Dlwb5",
      "include_colab_link": true
    },
    "kernelspec": {
      "name": "python3",
      "display_name": "Python 3"
    },
    "language_info": {
      "name": "python"
    }
  },
  "cells": [
    {
      "cell_type": "markdown",
      "metadata": {
        "id": "view-in-github",
        "colab_type": "text"
      },
      "source": [
        "<a href=\"https://colab.research.google.com/github/Nitu-ku/skills-introduction-to-github/blob/main/House_Price_Prediction.ipynb\" target=\"_parent\"><img src=\"https://colab.research.google.com/assets/colab-badge.svg\" alt=\"Open In Colab\"/></a>"
      ]
    },
    {
      "cell_type": "code",
      "source": [
        "import pandas as pd\n",
        "data = pd.read_csv(\"/content/Housing.csv\")\n",
        "data"
      ],
>>>>>>> 44553d097760ac39607ebe122822a5c46932f2d4
      "metadata": {
        "colab": {
          "base_uri": "https://localhost:8080/",
          "height": 423
        },
        "collapsed": true,
        "id": "61r0CRNX2S0D",
        "outputId": "d598c01c-5a5a-4381-8053-ed3612eece77"
      },
<<<<<<< HEAD
      "outputs": [
        {
          "data": {
            "application/vnd.google.colaboratory.intrinsic+json": {
              "summary": "{\n  \"name\": \"data\",\n  \"rows\": 545,\n  \"fields\": [\n    {\n      \"column\": \"price\",\n      \"properties\": {\n        \"dtype\": \"number\",\n        \"std\": 1870439,\n        \"min\": 1750000,\n        \"max\": 13300000,\n        \"num_unique_values\": 219,\n        \"samples\": [\n          3773000,\n          5285000,\n          1820000\n        ],\n        \"semantic_type\": \"\",\n        \"description\": \"\"\n      }\n    },\n    {\n      \"column\": \"area\",\n      \"properties\": {\n        \"dtype\": \"number\",\n        \"std\": 2170,\n        \"min\": 1650,\n        \"max\": 16200,\n        \"num_unique_values\": 284,\n        \"samples\": [\n          6000,\n          2684,\n          5360\n        ],\n        \"semantic_type\": \"\",\n        \"description\": \"\"\n      }\n    },\n    {\n      \"column\": \"bedrooms\",\n      \"properties\": {\n        \"dtype\": \"number\",\n        \"std\": 0,\n        \"min\": 1,\n        \"max\": 6,\n        \"num_unique_values\": 6,\n        \"samples\": [\n          4,\n          3,\n          1\n        ],\n        \"semantic_type\": \"\",\n        \"description\": \"\"\n      }\n    },\n    {\n      \"column\": \"bathrooms\",\n      \"properties\": {\n        \"dtype\": \"number\",\n        \"std\": 0,\n        \"min\": 1,\n        \"max\": 4,\n        \"num_unique_values\": 4,\n        \"samples\": [\n          4,\n          3,\n          2\n        ],\n        \"semantic_type\": \"\",\n        \"description\": \"\"\n      }\n    },\n    {\n      \"column\": \"stories\",\n      \"properties\": {\n        \"dtype\": \"number\",\n        \"std\": 0,\n        \"min\": 1,\n        \"max\": 4,\n        \"num_unique_values\": 4,\n        \"samples\": [\n          4,\n          1,\n          3\n        ],\n        \"semantic_type\": \"\",\n        \"description\": \"\"\n      }\n    },\n    {\n      \"column\": \"mainroad\",\n      \"properties\": {\n        \"dtype\": \"category\",\n        \"num_unique_values\": 2,\n        \"samples\": [\n          \"no\",\n          \"yes\"\n        ],\n        \"semantic_type\": \"\",\n        \"description\": \"\"\n      }\n    },\n    {\n      \"column\": \"guestroom\",\n      \"properties\": {\n        \"dtype\": \"category\",\n        \"num_unique_values\": 2,\n        \"samples\": [\n          \"yes\",\n          \"no\"\n        ],\n        \"semantic_type\": \"\",\n        \"description\": \"\"\n      }\n    },\n    {\n      \"column\": \"basement\",\n      \"properties\": {\n        \"dtype\": \"category\",\n        \"num_unique_values\": 2,\n        \"samples\": [\n          \"yes\",\n          \"no\"\n        ],\n        \"semantic_type\": \"\",\n        \"description\": \"\"\n      }\n    },\n    {\n      \"column\": \"hotwaterheating\",\n      \"properties\": {\n        \"dtype\": \"category\",\n        \"num_unique_values\": 2,\n        \"samples\": [\n          \"yes\",\n          \"no\"\n        ],\n        \"semantic_type\": \"\",\n        \"description\": \"\"\n      }\n    },\n    {\n      \"column\": \"airconditioning\",\n      \"properties\": {\n        \"dtype\": \"category\",\n        \"num_unique_values\": 2,\n        \"samples\": [\n          \"no\",\n          \"yes\"\n        ],\n        \"semantic_type\": \"\",\n        \"description\": \"\"\n      }\n    },\n    {\n      \"column\": \"parking\",\n      \"properties\": {\n        \"dtype\": \"number\",\n        \"std\": 0,\n        \"min\": 0,\n        \"max\": 3,\n        \"num_unique_values\": 4,\n        \"samples\": [\n          3,\n          1\n        ],\n        \"semantic_type\": \"\",\n        \"description\": \"\"\n      }\n    },\n    {\n      \"column\": \"prefarea\",\n      \"properties\": {\n        \"dtype\": \"category\",\n        \"num_unique_values\": 2,\n        \"samples\": [\n          \"no\",\n          \"yes\"\n        ],\n        \"semantic_type\": \"\",\n        \"description\": \"\"\n      }\n    },\n    {\n      \"column\": \"furnishingstatus\",\n      \"properties\": {\n        \"dtype\": \"category\",\n        \"num_unique_values\": 3,\n        \"samples\": [\n          \"furnished\",\n          \"semi-furnished\"\n        ],\n        \"semantic_type\": \"\",\n        \"description\": \"\"\n      }\n    }\n  ]\n}",
              "type": "dataframe",
              "variable_name": "data"
            },
=======
      "execution_count": null,
      "outputs": [
        {
          "output_type": "execute_result",
          "data": {
            "text/plain": [
              "        price  area  bedrooms  bathrooms  stories mainroad guestroom basement  \\\n",
              "0    13300000  7420         4          2        3      yes        no       no   \n",
              "1    12250000  8960         4          4        4      yes        no       no   \n",
              "2    12250000  9960         3          2        2      yes        no      yes   \n",
              "3    12215000  7500         4          2        2      yes        no      yes   \n",
              "4    11410000  7420         4          1        2      yes       yes      yes   \n",
              "..        ...   ...       ...        ...      ...      ...       ...      ...   \n",
              "540   1820000  3000         2          1        1      yes        no      yes   \n",
              "541   1767150  2400         3          1        1       no        no       no   \n",
              "542   1750000  3620         2          1        1      yes        no       no   \n",
              "543   1750000  2910         3          1        1       no        no       no   \n",
              "544   1750000  3850         3          1        2      yes        no       no   \n",
              "\n",
              "    hotwaterheating airconditioning  parking prefarea furnishingstatus  \n",
              "0                no             yes        2      yes        furnished  \n",
              "1                no             yes        3       no        furnished  \n",
              "2                no              no        2      yes   semi-furnished  \n",
              "3                no             yes        3      yes        furnished  \n",
              "4                no             yes        2       no        furnished  \n",
              "..              ...             ...      ...      ...              ...  \n",
              "540              no              no        2       no      unfurnished  \n",
              "541              no              no        0       no   semi-furnished  \n",
              "542              no              no        0       no      unfurnished  \n",
              "543              no              no        0       no        furnished  \n",
              "544              no              no        0       no      unfurnished  \n",
              "\n",
              "[545 rows x 13 columns]"
            ],
>>>>>>> 44553d097760ac39607ebe122822a5c46932f2d4
            "text/html": [
              "\n",
              "  <div id=\"df-f22ee389-9acb-4458-be57-0e6c96a2773d\" class=\"colab-df-container\">\n",
              "    <div>\n",
              "<style scoped>\n",
              "    .dataframe tbody tr th:only-of-type {\n",
              "        vertical-align: middle;\n",
              "    }\n",
              "\n",
              "    .dataframe tbody tr th {\n",
              "        vertical-align: top;\n",
              "    }\n",
              "\n",
              "    .dataframe thead th {\n",
              "        text-align: right;\n",
              "    }\n",
              "</style>\n",
              "<table border=\"1\" class=\"dataframe\">\n",
              "  <thead>\n",
              "    <tr style=\"text-align: right;\">\n",
              "      <th></th>\n",
              "      <th>price</th>\n",
              "      <th>area</th>\n",
              "      <th>bedrooms</th>\n",
              "      <th>bathrooms</th>\n",
              "      <th>stories</th>\n",
              "      <th>mainroad</th>\n",
              "      <th>guestroom</th>\n",
              "      <th>basement</th>\n",
              "      <th>hotwaterheating</th>\n",
              "      <th>airconditioning</th>\n",
              "      <th>parking</th>\n",
              "      <th>prefarea</th>\n",
              "      <th>furnishingstatus</th>\n",
              "    </tr>\n",
              "  </thead>\n",
              "  <tbody>\n",
              "    <tr>\n",
              "      <th>0</th>\n",
              "      <td>13300000</td>\n",
              "      <td>7420</td>\n",
              "      <td>4</td>\n",
              "      <td>2</td>\n",
              "      <td>3</td>\n",
              "      <td>yes</td>\n",
              "      <td>no</td>\n",
              "      <td>no</td>\n",
              "      <td>no</td>\n",
              "      <td>yes</td>\n",
              "      <td>2</td>\n",
              "      <td>yes</td>\n",
              "      <td>furnished</td>\n",
              "    </tr>\n",
              "    <tr>\n",
              "      <th>1</th>\n",
              "      <td>12250000</td>\n",
              "      <td>8960</td>\n",
              "      <td>4</td>\n",
              "      <td>4</td>\n",
              "      <td>4</td>\n",
              "      <td>yes</td>\n",
              "      <td>no</td>\n",
              "      <td>no</td>\n",
              "      <td>no</td>\n",
              "      <td>yes</td>\n",
              "      <td>3</td>\n",
              "      <td>no</td>\n",
              "      <td>furnished</td>\n",
              "    </tr>\n",
              "    <tr>\n",
              "      <th>2</th>\n",
              "      <td>12250000</td>\n",
              "      <td>9960</td>\n",
              "      <td>3</td>\n",
              "      <td>2</td>\n",
              "      <td>2</td>\n",
              "      <td>yes</td>\n",
              "      <td>no</td>\n",
              "      <td>yes</td>\n",
              "      <td>no</td>\n",
              "      <td>no</td>\n",
              "      <td>2</td>\n",
              "      <td>yes</td>\n",
              "      <td>semi-furnished</td>\n",
              "    </tr>\n",
              "    <tr>\n",
              "      <th>3</th>\n",
              "      <td>12215000</td>\n",
              "      <td>7500</td>\n",
              "      <td>4</td>\n",
              "      <td>2</td>\n",
              "      <td>2</td>\n",
              "      <td>yes</td>\n",
              "      <td>no</td>\n",
              "      <td>yes</td>\n",
              "      <td>no</td>\n",
              "      <td>yes</td>\n",
              "      <td>3</td>\n",
              "      <td>yes</td>\n",
              "      <td>furnished</td>\n",
              "    </tr>\n",
              "    <tr>\n",
              "      <th>4</th>\n",
              "      <td>11410000</td>\n",
              "      <td>7420</td>\n",
              "      <td>4</td>\n",
              "      <td>1</td>\n",
              "      <td>2</td>\n",
              "      <td>yes</td>\n",
              "      <td>yes</td>\n",
              "      <td>yes</td>\n",
              "      <td>no</td>\n",
              "      <td>yes</td>\n",
              "      <td>2</td>\n",
              "      <td>no</td>\n",
              "      <td>furnished</td>\n",
              "    </tr>\n",
              "    <tr>\n",
              "      <th>...</th>\n",
              "      <td>...</td>\n",
              "      <td>...</td>\n",
              "      <td>...</td>\n",
              "      <td>...</td>\n",
              "      <td>...</td>\n",
              "      <td>...</td>\n",
              "      <td>...</td>\n",
              "      <td>...</td>\n",
              "      <td>...</td>\n",
              "      <td>...</td>\n",
              "      <td>...</td>\n",
              "      <td>...</td>\n",
              "      <td>...</td>\n",
              "    </tr>\n",
              "    <tr>\n",
              "      <th>540</th>\n",
              "      <td>1820000</td>\n",
              "      <td>3000</td>\n",
              "      <td>2</td>\n",
              "      <td>1</td>\n",
              "      <td>1</td>\n",
              "      <td>yes</td>\n",
              "      <td>no</td>\n",
              "      <td>yes</td>\n",
              "      <td>no</td>\n",
              "      <td>no</td>\n",
              "      <td>2</td>\n",
              "      <td>no</td>\n",
              "      <td>unfurnished</td>\n",
              "    </tr>\n",
              "    <tr>\n",
              "      <th>541</th>\n",
              "      <td>1767150</td>\n",
              "      <td>2400</td>\n",
              "      <td>3</td>\n",
              "      <td>1</td>\n",
              "      <td>1</td>\n",
              "      <td>no</td>\n",
              "      <td>no</td>\n",
              "      <td>no</td>\n",
              "      <td>no</td>\n",
              "      <td>no</td>\n",
              "      <td>0</td>\n",
              "      <td>no</td>\n",
              "      <td>semi-furnished</td>\n",
              "    </tr>\n",
              "    <tr>\n",
              "      <th>542</th>\n",
              "      <td>1750000</td>\n",
              "      <td>3620</td>\n",
              "      <td>2</td>\n",
              "      <td>1</td>\n",
              "      <td>1</td>\n",
              "      <td>yes</td>\n",
              "      <td>no</td>\n",
              "      <td>no</td>\n",
              "      <td>no</td>\n",
              "      <td>no</td>\n",
              "      <td>0</td>\n",
              "      <td>no</td>\n",
              "      <td>unfurnished</td>\n",
              "    </tr>\n",
              "    <tr>\n",
              "      <th>543</th>\n",
              "      <td>1750000</td>\n",
              "      <td>2910</td>\n",
              "      <td>3</td>\n",
              "      <td>1</td>\n",
              "      <td>1</td>\n",
              "      <td>no</td>\n",
              "      <td>no</td>\n",
              "      <td>no</td>\n",
              "      <td>no</td>\n",
              "      <td>no</td>\n",
              "      <td>0</td>\n",
              "      <td>no</td>\n",
              "      <td>furnished</td>\n",
              "    </tr>\n",
              "    <tr>\n",
              "      <th>544</th>\n",
              "      <td>1750000</td>\n",
              "      <td>3850</td>\n",
              "      <td>3</td>\n",
              "      <td>1</td>\n",
              "      <td>2</td>\n",
              "      <td>yes</td>\n",
              "      <td>no</td>\n",
              "      <td>no</td>\n",
              "      <td>no</td>\n",
              "      <td>no</td>\n",
              "      <td>0</td>\n",
              "      <td>no</td>\n",
              "      <td>unfurnished</td>\n",
              "    </tr>\n",
              "  </tbody>\n",
              "</table>\n",
              "<p>545 rows × 13 columns</p>\n",
              "</div>\n",
              "    <div class=\"colab-df-buttons\">\n",
              "\n",
              "  <div class=\"colab-df-container\">\n",
              "    <button class=\"colab-df-convert\" onclick=\"convertToInteractive('df-f22ee389-9acb-4458-be57-0e6c96a2773d')\"\n",
              "            title=\"Convert this dataframe to an interactive table.\"\n",
              "            style=\"display:none;\">\n",
              "\n",
              "  <svg xmlns=\"http://www.w3.org/2000/svg\" height=\"24px\" viewBox=\"0 -960 960 960\">\n",
              "    <path d=\"M120-120v-720h720v720H120Zm60-500h600v-160H180v160Zm220 220h160v-160H400v160Zm0 220h160v-160H400v160ZM180-400h160v-160H180v160Zm440 0h160v-160H620v160ZM180-180h160v-160H180v160Zm440 0h160v-160H620v160Z\"/>\n",
              "  </svg>\n",
              "    </button>\n",
              "\n",
              "  <style>\n",
              "    .colab-df-container {\n",
              "      display:flex;\n",
              "      gap: 12px;\n",
              "    }\n",
              "\n",
              "    .colab-df-convert {\n",
              "      background-color: #E8F0FE;\n",
              "      border: none;\n",
              "      border-radius: 50%;\n",
              "      cursor: pointer;\n",
              "      display: none;\n",
              "      fill: #1967D2;\n",
              "      height: 32px;\n",
              "      padding: 0 0 0 0;\n",
              "      width: 32px;\n",
              "    }\n",
              "\n",
              "    .colab-df-convert:hover {\n",
              "      background-color: #E2EBFA;\n",
              "      box-shadow: 0px 1px 2px rgba(60, 64, 67, 0.3), 0px 1px 3px 1px rgba(60, 64, 67, 0.15);\n",
              "      fill: #174EA6;\n",
              "    }\n",
              "\n",
              "    .colab-df-buttons div {\n",
              "      margin-bottom: 4px;\n",
              "    }\n",
              "\n",
              "    [theme=dark] .colab-df-convert {\n",
              "      background-color: #3B4455;\n",
              "      fill: #D2E3FC;\n",
              "    }\n",
              "\n",
              "    [theme=dark] .colab-df-convert:hover {\n",
              "      background-color: #434B5C;\n",
              "      box-shadow: 0px 1px 3px 1px rgba(0, 0, 0, 0.15);\n",
              "      filter: drop-shadow(0px 1px 2px rgba(0, 0, 0, 0.3));\n",
              "      fill: #FFFFFF;\n",
              "    }\n",
              "  </style>\n",
              "\n",
              "    <script>\n",
              "      const buttonEl =\n",
              "        document.querySelector('#df-f22ee389-9acb-4458-be57-0e6c96a2773d button.colab-df-convert');\n",
              "      buttonEl.style.display =\n",
              "        google.colab.kernel.accessAllowed ? 'block' : 'none';\n",
              "\n",
              "      async function convertToInteractive(key) {\n",
              "        const element = document.querySelector('#df-f22ee389-9acb-4458-be57-0e6c96a2773d');\n",
              "        const dataTable =\n",
              "          await google.colab.kernel.invokeFunction('convertToInteractive',\n",
              "                                                    [key], {});\n",
              "        if (!dataTable) return;\n",
              "\n",
              "        const docLinkHtml = 'Like what you see? Visit the ' +\n",
              "          '<a target=\"_blank\" href=https://colab.research.google.com/notebooks/data_table.ipynb>data table notebook</a>'\n",
              "          + ' to learn more about interactive tables.';\n",
              "        element.innerHTML = '';\n",
              "        dataTable['output_type'] = 'display_data';\n",
              "        await google.colab.output.renderOutput(dataTable, element);\n",
              "        const docLink = document.createElement('div');\n",
              "        docLink.innerHTML = docLinkHtml;\n",
              "        element.appendChild(docLink);\n",
              "      }\n",
              "    </script>\n",
              "  </div>\n",
              "\n",
              "\n",
              "    <div id=\"df-083a6f0c-4022-4531-ac8e-29eae80d8105\">\n",
              "      <button class=\"colab-df-quickchart\" onclick=\"quickchart('df-083a6f0c-4022-4531-ac8e-29eae80d8105')\"\n",
              "                title=\"Suggest charts\"\n",
              "                style=\"display:none;\">\n",
              "\n",
              "<svg xmlns=\"http://www.w3.org/2000/svg\" height=\"24px\"viewBox=\"0 0 24 24\"\n",
              "     width=\"24px\">\n",
              "    <g>\n",
              "        <path d=\"M19 3H5c-1.1 0-2 .9-2 2v14c0 1.1.9 2 2 2h14c1.1 0 2-.9 2-2V5c0-1.1-.9-2-2-2zM9 17H7v-7h2v7zm4 0h-2V7h2v10zm4 0h-2v-4h2v4z\"/>\n",
              "    </g>\n",
              "</svg>\n",
              "      </button>\n",
              "\n",
              "<style>\n",
              "  .colab-df-quickchart {\n",
              "      --bg-color: #E8F0FE;\n",
              "      --fill-color: #1967D2;\n",
              "      --hover-bg-color: #E2EBFA;\n",
              "      --hover-fill-color: #174EA6;\n",
              "      --disabled-fill-color: #AAA;\n",
              "      --disabled-bg-color: #DDD;\n",
              "  }\n",
              "\n",
              "  [theme=dark] .colab-df-quickchart {\n",
              "      --bg-color: #3B4455;\n",
              "      --fill-color: #D2E3FC;\n",
              "      --hover-bg-color: #434B5C;\n",
              "      --hover-fill-color: #FFFFFF;\n",
              "      --disabled-bg-color: #3B4455;\n",
              "      --disabled-fill-color: #666;\n",
              "  }\n",
              "\n",
              "  .colab-df-quickchart {\n",
              "    background-color: var(--bg-color);\n",
              "    border: none;\n",
              "    border-radius: 50%;\n",
              "    cursor: pointer;\n",
              "    display: none;\n",
              "    fill: var(--fill-color);\n",
              "    height: 32px;\n",
              "    padding: 0;\n",
              "    width: 32px;\n",
              "  }\n",
              "\n",
              "  .colab-df-quickchart:hover {\n",
              "    background-color: var(--hover-bg-color);\n",
              "    box-shadow: 0 1px 2px rgba(60, 64, 67, 0.3), 0 1px 3px 1px rgba(60, 64, 67, 0.15);\n",
              "    fill: var(--button-hover-fill-color);\n",
              "  }\n",
              "\n",
              "  .colab-df-quickchart-complete:disabled,\n",
              "  .colab-df-quickchart-complete:disabled:hover {\n",
              "    background-color: var(--disabled-bg-color);\n",
              "    fill: var(--disabled-fill-color);\n",
              "    box-shadow: none;\n",
              "  }\n",
              "\n",
              "  .colab-df-spinner {\n",
              "    border: 2px solid var(--fill-color);\n",
              "    border-color: transparent;\n",
              "    border-bottom-color: var(--fill-color);\n",
              "    animation:\n",
              "      spin 1s steps(1) infinite;\n",
              "  }\n",
              "\n",
              "  @keyframes spin {\n",
              "    0% {\n",
              "      border-color: transparent;\n",
              "      border-bottom-color: var(--fill-color);\n",
              "      border-left-color: var(--fill-color);\n",
              "    }\n",
              "    20% {\n",
              "      border-color: transparent;\n",
              "      border-left-color: var(--fill-color);\n",
              "      border-top-color: var(--fill-color);\n",
              "    }\n",
              "    30% {\n",
              "      border-color: transparent;\n",
              "      border-left-color: var(--fill-color);\n",
              "      border-top-color: var(--fill-color);\n",
              "      border-right-color: var(--fill-color);\n",
              "    }\n",
              "    40% {\n",
              "      border-color: transparent;\n",
              "      border-right-color: var(--fill-color);\n",
              "      border-top-color: var(--fill-color);\n",
              "    }\n",
              "    60% {\n",
              "      border-color: transparent;\n",
              "      border-right-color: var(--fill-color);\n",
              "    }\n",
              "    80% {\n",
              "      border-color: transparent;\n",
              "      border-right-color: var(--fill-color);\n",
              "      border-bottom-color: var(--fill-color);\n",
              "    }\n",
              "    90% {\n",
              "      border-color: transparent;\n",
              "      border-bottom-color: var(--fill-color);\n",
              "    }\n",
              "  }\n",
              "</style>\n",
              "\n",
              "      <script>\n",
              "        async function quickchart(key) {\n",
              "          const quickchartButtonEl =\n",
              "            document.querySelector('#' + key + ' button');\n",
              "          quickchartButtonEl.disabled = true;  // To prevent multiple clicks.\n",
              "          quickchartButtonEl.classList.add('colab-df-spinner');\n",
              "          try {\n",
              "            const charts = await google.colab.kernel.invokeFunction(\n",
              "                'suggestCharts', [key], {});\n",
              "          } catch (error) {\n",
              "            console.error('Error during call to suggestCharts:', error);\n",
              "          }\n",
              "          quickchartButtonEl.classList.remove('colab-df-spinner');\n",
              "          quickchartButtonEl.classList.add('colab-df-quickchart-complete');\n",
              "        }\n",
              "        (() => {\n",
              "          let quickchartButtonEl =\n",
              "            document.querySelector('#df-083a6f0c-4022-4531-ac8e-29eae80d8105 button');\n",
              "          quickchartButtonEl.style.display =\n",
              "            google.colab.kernel.accessAllowed ? 'block' : 'none';\n",
              "        })();\n",
              "      </script>\n",
              "    </div>\n",
              "\n",
              "  <div id=\"id_d8084a12-4f49-4829-841c-5a1e78724f88\">\n",
              "    <style>\n",
              "      .colab-df-generate {\n",
              "        background-color: #E8F0FE;\n",
              "        border: none;\n",
              "        border-radius: 50%;\n",
              "        cursor: pointer;\n",
              "        display: none;\n",
              "        fill: #1967D2;\n",
              "        height: 32px;\n",
              "        padding: 0 0 0 0;\n",
              "        width: 32px;\n",
              "      }\n",
              "\n",
              "      .colab-df-generate:hover {\n",
              "        background-color: #E2EBFA;\n",
              "        box-shadow: 0px 1px 2px rgba(60, 64, 67, 0.3), 0px 1px 3px 1px rgba(60, 64, 67, 0.15);\n",
              "        fill: #174EA6;\n",
              "      }\n",
              "\n",
              "      [theme=dark] .colab-df-generate {\n",
              "        background-color: #3B4455;\n",
              "        fill: #D2E3FC;\n",
              "      }\n",
              "\n",
              "      [theme=dark] .colab-df-generate:hover {\n",
              "        background-color: #434B5C;\n",
              "        box-shadow: 0px 1px 3px 1px rgba(0, 0, 0, 0.15);\n",
              "        filter: drop-shadow(0px 1px 2px rgba(0, 0, 0, 0.3));\n",
              "        fill: #FFFFFF;\n",
              "      }\n",
              "    </style>\n",
              "    <button class=\"colab-df-generate\" onclick=\"generateWithVariable('data')\"\n",
              "            title=\"Generate code using this dataframe.\"\n",
              "            style=\"display:none;\">\n",
              "\n",
              "  <svg xmlns=\"http://www.w3.org/2000/svg\" height=\"24px\"viewBox=\"0 0 24 24\"\n",
              "       width=\"24px\">\n",
              "    <path d=\"M7,19H8.4L18.45,9,17,7.55,7,17.6ZM5,21V16.75L18.45,3.32a2,2,0,0,1,2.83,0l1.4,1.43a1.91,1.91,0,0,1,.58,1.4,1.91,1.91,0,0,1-.58,1.4L9.25,21ZM18.45,9,17,7.55Zm-12,3A5.31,5.31,0,0,0,4.9,8.1,5.31,5.31,0,0,0,1,6.5,5.31,5.31,0,0,0,4.9,4.9,5.31,5.31,0,0,0,6.5,1,5.31,5.31,0,0,0,8.1,4.9,5.31,5.31,0,0,0,12,6.5,5.46,5.46,0,0,0,6.5,12Z\"/>\n",
              "  </svg>\n",
              "    </button>\n",
              "    <script>\n",
              "      (() => {\n",
              "      const buttonEl =\n",
              "        document.querySelector('#id_d8084a12-4f49-4829-841c-5a1e78724f88 button.colab-df-generate');\n",
              "      buttonEl.style.display =\n",
              "        google.colab.kernel.accessAllowed ? 'block' : 'none';\n",
              "\n",
              "      buttonEl.onclick = () => {\n",
              "        google.colab.notebook.generateWithVariable('data');\n",
              "      }\n",
              "      })();\n",
              "    </script>\n",
              "  </div>\n",
              "\n",
              "    </div>\n",
              "  </div>\n"
            ],
<<<<<<< HEAD
            "text/plain": [
              "        price  area  bedrooms  bathrooms  stories mainroad guestroom basement  \\\n",
              "0    13300000  7420         4          2        3      yes        no       no   \n",
              "1    12250000  8960         4          4        4      yes        no       no   \n",
              "2    12250000  9960         3          2        2      yes        no      yes   \n",
              "3    12215000  7500         4          2        2      yes        no      yes   \n",
              "4    11410000  7420         4          1        2      yes       yes      yes   \n",
              "..        ...   ...       ...        ...      ...      ...       ...      ...   \n",
              "540   1820000  3000         2          1        1      yes        no      yes   \n",
              "541   1767150  2400         3          1        1       no        no       no   \n",
              "542   1750000  3620         2          1        1      yes        no       no   \n",
              "543   1750000  2910         3          1        1       no        no       no   \n",
              "544   1750000  3850         3          1        2      yes        no       no   \n",
              "\n",
              "    hotwaterheating airconditioning  parking prefarea furnishingstatus  \n",
              "0                no             yes        2      yes        furnished  \n",
              "1                no             yes        3       no        furnished  \n",
              "2                no              no        2      yes   semi-furnished  \n",
              "3                no             yes        3      yes        furnished  \n",
              "4                no             yes        2       no        furnished  \n",
              "..              ...             ...      ...      ...              ...  \n",
              "540              no              no        2       no      unfurnished  \n",
              "541              no              no        0       no   semi-furnished  \n",
              "542              no              no        0       no      unfurnished  \n",
              "543              no              no        0       no        furnished  \n",
              "544              no              no        0       no      unfurnished  \n",
              "\n",
              "[545 rows x 13 columns]"
            ]
          },
          "execution_count": 87,
          "metadata": {},
          "output_type": "execute_result"
        }
      ],
      "source": [
        "import pandas as pd\n",
        "data = pd.read_csv(\"/content/Housing.csv\")\n",
        "data"
=======
            "application/vnd.google.colaboratory.intrinsic+json": {
              "type": "dataframe",
              "variable_name": "data",
              "summary": "{\n  \"name\": \"data\",\n  \"rows\": 545,\n  \"fields\": [\n    {\n      \"column\": \"price\",\n      \"properties\": {\n        \"dtype\": \"number\",\n        \"std\": 1870439,\n        \"min\": 1750000,\n        \"max\": 13300000,\n        \"num_unique_values\": 219,\n        \"samples\": [\n          3773000,\n          5285000,\n          1820000\n        ],\n        \"semantic_type\": \"\",\n        \"description\": \"\"\n      }\n    },\n    {\n      \"column\": \"area\",\n      \"properties\": {\n        \"dtype\": \"number\",\n        \"std\": 2170,\n        \"min\": 1650,\n        \"max\": 16200,\n        \"num_unique_values\": 284,\n        \"samples\": [\n          6000,\n          2684,\n          5360\n        ],\n        \"semantic_type\": \"\",\n        \"description\": \"\"\n      }\n    },\n    {\n      \"column\": \"bedrooms\",\n      \"properties\": {\n        \"dtype\": \"number\",\n        \"std\": 0,\n        \"min\": 1,\n        \"max\": 6,\n        \"num_unique_values\": 6,\n        \"samples\": [\n          4,\n          3,\n          1\n        ],\n        \"semantic_type\": \"\",\n        \"description\": \"\"\n      }\n    },\n    {\n      \"column\": \"bathrooms\",\n      \"properties\": {\n        \"dtype\": \"number\",\n        \"std\": 0,\n        \"min\": 1,\n        \"max\": 4,\n        \"num_unique_values\": 4,\n        \"samples\": [\n          4,\n          3,\n          2\n        ],\n        \"semantic_type\": \"\",\n        \"description\": \"\"\n      }\n    },\n    {\n      \"column\": \"stories\",\n      \"properties\": {\n        \"dtype\": \"number\",\n        \"std\": 0,\n        \"min\": 1,\n        \"max\": 4,\n        \"num_unique_values\": 4,\n        \"samples\": [\n          4,\n          1,\n          3\n        ],\n        \"semantic_type\": \"\",\n        \"description\": \"\"\n      }\n    },\n    {\n      \"column\": \"mainroad\",\n      \"properties\": {\n        \"dtype\": \"category\",\n        \"num_unique_values\": 2,\n        \"samples\": [\n          \"no\",\n          \"yes\"\n        ],\n        \"semantic_type\": \"\",\n        \"description\": \"\"\n      }\n    },\n    {\n      \"column\": \"guestroom\",\n      \"properties\": {\n        \"dtype\": \"category\",\n        \"num_unique_values\": 2,\n        \"samples\": [\n          \"yes\",\n          \"no\"\n        ],\n        \"semantic_type\": \"\",\n        \"description\": \"\"\n      }\n    },\n    {\n      \"column\": \"basement\",\n      \"properties\": {\n        \"dtype\": \"category\",\n        \"num_unique_values\": 2,\n        \"samples\": [\n          \"yes\",\n          \"no\"\n        ],\n        \"semantic_type\": \"\",\n        \"description\": \"\"\n      }\n    },\n    {\n      \"column\": \"hotwaterheating\",\n      \"properties\": {\n        \"dtype\": \"category\",\n        \"num_unique_values\": 2,\n        \"samples\": [\n          \"yes\",\n          \"no\"\n        ],\n        \"semantic_type\": \"\",\n        \"description\": \"\"\n      }\n    },\n    {\n      \"column\": \"airconditioning\",\n      \"properties\": {\n        \"dtype\": \"category\",\n        \"num_unique_values\": 2,\n        \"samples\": [\n          \"no\",\n          \"yes\"\n        ],\n        \"semantic_type\": \"\",\n        \"description\": \"\"\n      }\n    },\n    {\n      \"column\": \"parking\",\n      \"properties\": {\n        \"dtype\": \"number\",\n        \"std\": 0,\n        \"min\": 0,\n        \"max\": 3,\n        \"num_unique_values\": 4,\n        \"samples\": [\n          3,\n          1\n        ],\n        \"semantic_type\": \"\",\n        \"description\": \"\"\n      }\n    },\n    {\n      \"column\": \"prefarea\",\n      \"properties\": {\n        \"dtype\": \"category\",\n        \"num_unique_values\": 2,\n        \"samples\": [\n          \"no\",\n          \"yes\"\n        ],\n        \"semantic_type\": \"\",\n        \"description\": \"\"\n      }\n    },\n    {\n      \"column\": \"furnishingstatus\",\n      \"properties\": {\n        \"dtype\": \"category\",\n        \"num_unique_values\": 3,\n        \"samples\": [\n          \"furnished\",\n          \"semi-furnished\"\n        ],\n        \"semantic_type\": \"\",\n        \"description\": \"\"\n      }\n    }\n  ]\n}"
            }
          },
          "metadata": {},
          "execution_count": 87
        }
>>>>>>> 44553d097760ac39607ebe122822a5c46932f2d4
      ]
    },
    {
      "cell_type": "code",
<<<<<<< HEAD
      "execution_count": null,
=======
      "source": [
        "print(data.shape)\n",
        "print(data.head())"
      ],
>>>>>>> 44553d097760ac39607ebe122822a5c46932f2d4
      "metadata": {
        "colab": {
          "base_uri": "https://localhost:8080/"
        },
        "id": "uRxPK2lo3FB4",
        "outputId": "43725301-6174-45b5-a476-075d407e731c"
      },
<<<<<<< HEAD
      "outputs": [
        {
          "name": "stdout",
          "output_type": "stream",
=======
      "execution_count": null,
      "outputs": [
        {
          "output_type": "stream",
          "name": "stdout",
>>>>>>> 44553d097760ac39607ebe122822a5c46932f2d4
          "text": [
            "(545, 13)\n",
            "      price  area  bedrooms  bathrooms  stories mainroad guestroom basement  \\\n",
            "0  13300000  7420         4          2        3      yes        no       no   \n",
            "1  12250000  8960         4          4        4      yes        no       no   \n",
            "2  12250000  9960         3          2        2      yes        no      yes   \n",
            "3  12215000  7500         4          2        2      yes        no      yes   \n",
            "4  11410000  7420         4          1        2      yes       yes      yes   \n",
            "\n",
            "  hotwaterheating airconditioning  parking prefarea furnishingstatus  \n",
            "0              no             yes        2      yes        furnished  \n",
            "1              no             yes        3       no        furnished  \n",
            "2              no              no        2      yes   semi-furnished  \n",
            "3              no             yes        3      yes        furnished  \n",
            "4              no             yes        2       no        furnished  \n"
          ]
        }
<<<<<<< HEAD
      ],
      "source": [
        "print(data.shape)\n",
        "print(data.head())"
=======
>>>>>>> 44553d097760ac39607ebe122822a5c46932f2d4
      ]
    },
    {
      "cell_type": "code",
<<<<<<< HEAD
      "execution_count": null,
=======
      "source": [
        "# Explore structure and check for nulls\n",
        "print(data.info())"
      ],
>>>>>>> 44553d097760ac39607ebe122822a5c46932f2d4
      "metadata": {
        "colab": {
          "base_uri": "https://localhost:8080/"
        },
        "id": "SDV50bAU3UwS",
        "outputId": "490ba8b2-2931-4a71-cc6d-efd35cd11eac"
      },
<<<<<<< HEAD
      "outputs": [
        {
          "name": "stdout",
          "output_type": "stream",
=======
      "execution_count": null,
      "outputs": [
        {
          "output_type": "stream",
          "name": "stdout",
>>>>>>> 44553d097760ac39607ebe122822a5c46932f2d4
          "text": [
            "<class 'pandas.core.frame.DataFrame'>\n",
            "RangeIndex: 545 entries, 0 to 544\n",
            "Data columns (total 13 columns):\n",
            " #   Column            Non-Null Count  Dtype \n",
            "---  ------            --------------  ----- \n",
            " 0   price             545 non-null    int64 \n",
            " 1   area              545 non-null    int64 \n",
            " 2   bedrooms          545 non-null    int64 \n",
            " 3   bathrooms         545 non-null    int64 \n",
            " 4   stories           545 non-null    int64 \n",
            " 5   mainroad          545 non-null    object\n",
            " 6   guestroom         545 non-null    object\n",
            " 7   basement          545 non-null    object\n",
            " 8   hotwaterheating   545 non-null    object\n",
            " 9   airconditioning   545 non-null    object\n",
            " 10  parking           545 non-null    int64 \n",
            " 11  prefarea          545 non-null    object\n",
            " 12  furnishingstatus  545 non-null    object\n",
            "dtypes: int64(6), object(7)\n",
            "memory usage: 55.5+ KB\n",
            "None\n"
          ]
        }
<<<<<<< HEAD
      ],
      "source": [
        "# Explore structure and check for nulls\n",
        "print(data.info())"
=======
>>>>>>> 44553d097760ac39607ebe122822a5c46932f2d4
      ]
    },
    {
      "cell_type": "code",
<<<<<<< HEAD
      "execution_count": null,
=======
      "source": [
        "data[\"mainroad\"]=data[\"mainroad\"].map({\"yes\":1,\"no\":0})\n",
        "data[\"mainroad\"]"
      ],
>>>>>>> 44553d097760ac39607ebe122822a5c46932f2d4
      "metadata": {
        "colab": {
          "base_uri": "https://localhost:8080/",
          "height": 458
        },
        "id": "9kLUKSas3vG7",
        "outputId": "0e004825-afa6-42c1-9c5e-59027d0cb61d"
      },
<<<<<<< HEAD
      "outputs": [
        {
          "data": {
=======
      "execution_count": null,
      "outputs": [
        {
          "output_type": "execute_result",
          "data": {
            "text/plain": [
              "0      1\n",
              "1      1\n",
              "2      1\n",
              "3      1\n",
              "4      1\n",
              "      ..\n",
              "540    1\n",
              "541    0\n",
              "542    1\n",
              "543    0\n",
              "544    1\n",
              "Name: mainroad, Length: 545, dtype: int64"
            ],
>>>>>>> 44553d097760ac39607ebe122822a5c46932f2d4
            "text/html": [
              "<div>\n",
              "<style scoped>\n",
              "    .dataframe tbody tr th:only-of-type {\n",
              "        vertical-align: middle;\n",
              "    }\n",
              "\n",
              "    .dataframe tbody tr th {\n",
              "        vertical-align: top;\n",
              "    }\n",
              "\n",
              "    .dataframe thead th {\n",
              "        text-align: right;\n",
              "    }\n",
              "</style>\n",
              "<table border=\"1\" class=\"dataframe\">\n",
              "  <thead>\n",
              "    <tr style=\"text-align: right;\">\n",
              "      <th></th>\n",
              "      <th>mainroad</th>\n",
              "    </tr>\n",
              "  </thead>\n",
              "  <tbody>\n",
              "    <tr>\n",
              "      <th>0</th>\n",
              "      <td>1</td>\n",
              "    </tr>\n",
              "    <tr>\n",
              "      <th>1</th>\n",
              "      <td>1</td>\n",
              "    </tr>\n",
              "    <tr>\n",
              "      <th>2</th>\n",
              "      <td>1</td>\n",
              "    </tr>\n",
              "    <tr>\n",
              "      <th>3</th>\n",
              "      <td>1</td>\n",
              "    </tr>\n",
              "    <tr>\n",
              "      <th>4</th>\n",
              "      <td>1</td>\n",
              "    </tr>\n",
              "    <tr>\n",
              "      <th>...</th>\n",
              "      <td>...</td>\n",
              "    </tr>\n",
              "    <tr>\n",
              "      <th>540</th>\n",
              "      <td>1</td>\n",
              "    </tr>\n",
              "    <tr>\n",
              "      <th>541</th>\n",
              "      <td>0</td>\n",
              "    </tr>\n",
              "    <tr>\n",
              "      <th>542</th>\n",
              "      <td>1</td>\n",
              "    </tr>\n",
              "    <tr>\n",
              "      <th>543</th>\n",
              "      <td>0</td>\n",
              "    </tr>\n",
              "    <tr>\n",
              "      <th>544</th>\n",
              "      <td>1</td>\n",
              "    </tr>\n",
              "  </tbody>\n",
              "</table>\n",
              "<p>545 rows × 1 columns</p>\n",
              "</div><br><label><b>dtype:</b> int64</label>"
<<<<<<< HEAD
            ],
            "text/plain": [
              "0      1\n",
              "1      1\n",
              "2      1\n",
              "3      1\n",
              "4      1\n",
              "      ..\n",
              "540    1\n",
              "541    0\n",
              "542    1\n",
              "543    0\n",
              "544    1\n",
              "Name: mainroad, Length: 545, dtype: int64"
            ]
          },
          "execution_count": 90,
          "metadata": {},
          "output_type": "execute_result"
        }
      ],
      "source": [
        "data[\"mainroad\"]=data[\"mainroad\"].map({\"yes\":1,\"no\":0})\n",
        "data[\"mainroad\"]"
=======
            ]
          },
          "metadata": {},
          "execution_count": 90
        }
>>>>>>> 44553d097760ac39607ebe122822a5c46932f2d4
      ]
    },
    {
      "cell_type": "code",
<<<<<<< HEAD
      "execution_count": null,
=======
      "source": [
        "data[\"guestroom\"]=data[\"guestroom\"].map({\"yes\":1,\"no\":0})\n",
        "data[\"guestroom\"]"
      ],
>>>>>>> 44553d097760ac39607ebe122822a5c46932f2d4
      "metadata": {
        "colab": {
          "base_uri": "https://localhost:8080/",
          "height": 458
        },
        "id": "pThq7AqG3959",
        "outputId": "a4c09243-1929-49ef-f7f8-026ba12fe7f6"
      },
<<<<<<< HEAD
      "outputs": [
        {
          "data": {
=======
      "execution_count": null,
      "outputs": [
        {
          "output_type": "execute_result",
          "data": {
            "text/plain": [
              "0      0\n",
              "1      0\n",
              "2      0\n",
              "3      0\n",
              "4      1\n",
              "      ..\n",
              "540    0\n",
              "541    0\n",
              "542    0\n",
              "543    0\n",
              "544    0\n",
              "Name: guestroom, Length: 545, dtype: int64"
            ],
>>>>>>> 44553d097760ac39607ebe122822a5c46932f2d4
            "text/html": [
              "<div>\n",
              "<style scoped>\n",
              "    .dataframe tbody tr th:only-of-type {\n",
              "        vertical-align: middle;\n",
              "    }\n",
              "\n",
              "    .dataframe tbody tr th {\n",
              "        vertical-align: top;\n",
              "    }\n",
              "\n",
              "    .dataframe thead th {\n",
              "        text-align: right;\n",
              "    }\n",
              "</style>\n",
              "<table border=\"1\" class=\"dataframe\">\n",
              "  <thead>\n",
              "    <tr style=\"text-align: right;\">\n",
              "      <th></th>\n",
              "      <th>guestroom</th>\n",
              "    </tr>\n",
              "  </thead>\n",
              "  <tbody>\n",
              "    <tr>\n",
              "      <th>0</th>\n",
              "      <td>0</td>\n",
              "    </tr>\n",
              "    <tr>\n",
              "      <th>1</th>\n",
              "      <td>0</td>\n",
              "    </tr>\n",
              "    <tr>\n",
              "      <th>2</th>\n",
              "      <td>0</td>\n",
              "    </tr>\n",
              "    <tr>\n",
              "      <th>3</th>\n",
              "      <td>0</td>\n",
              "    </tr>\n",
              "    <tr>\n",
              "      <th>4</th>\n",
              "      <td>1</td>\n",
              "    </tr>\n",
              "    <tr>\n",
              "      <th>...</th>\n",
              "      <td>...</td>\n",
              "    </tr>\n",
              "    <tr>\n",
              "      <th>540</th>\n",
              "      <td>0</td>\n",
              "    </tr>\n",
              "    <tr>\n",
              "      <th>541</th>\n",
              "      <td>0</td>\n",
              "    </tr>\n",
              "    <tr>\n",
              "      <th>542</th>\n",
              "      <td>0</td>\n",
              "    </tr>\n",
              "    <tr>\n",
              "      <th>543</th>\n",
              "      <td>0</td>\n",
              "    </tr>\n",
              "    <tr>\n",
              "      <th>544</th>\n",
              "      <td>0</td>\n",
              "    </tr>\n",
              "  </tbody>\n",
              "</table>\n",
              "<p>545 rows × 1 columns</p>\n",
              "</div><br><label><b>dtype:</b> int64</label>"
<<<<<<< HEAD
            ],
            "text/plain": [
              "0      0\n",
              "1      0\n",
              "2      0\n",
              "3      0\n",
              "4      1\n",
              "      ..\n",
              "540    0\n",
              "541    0\n",
              "542    0\n",
              "543    0\n",
              "544    0\n",
              "Name: guestroom, Length: 545, dtype: int64"
            ]
          },
          "execution_count": 91,
          "metadata": {},
          "output_type": "execute_result"
        }
      ],
      "source": [
        "data[\"guestroom\"]=data[\"guestroom\"].map({\"yes\":1,\"no\":0})\n",
        "data[\"guestroom\"]"
=======
            ]
          },
          "metadata": {},
          "execution_count": 91
        }
>>>>>>> 44553d097760ac39607ebe122822a5c46932f2d4
      ]
    },
    {
      "cell_type": "code",
<<<<<<< HEAD
      "execution_count": null,
=======
      "source": [
        "data[\"basement\"]=data[\"basement\"].map({\"yes\":1,\"no\":0})\n",
        "data[\"basement\"]"
      ],
>>>>>>> 44553d097760ac39607ebe122822a5c46932f2d4
      "metadata": {
        "colab": {
          "base_uri": "https://localhost:8080/",
          "height": 458
        },
        "id": "KPa8hrTA4f6M",
        "outputId": "10ea2b37-ef41-451f-e888-374acf27e766"
      },
<<<<<<< HEAD
      "outputs": [
        {
          "data": {
=======
      "execution_count": null,
      "outputs": [
        {
          "output_type": "execute_result",
          "data": {
            "text/plain": [
              "0      0\n",
              "1      0\n",
              "2      1\n",
              "3      1\n",
              "4      1\n",
              "      ..\n",
              "540    1\n",
              "541    0\n",
              "542    0\n",
              "543    0\n",
              "544    0\n",
              "Name: basement, Length: 545, dtype: int64"
            ],
>>>>>>> 44553d097760ac39607ebe122822a5c46932f2d4
            "text/html": [
              "<div>\n",
              "<style scoped>\n",
              "    .dataframe tbody tr th:only-of-type {\n",
              "        vertical-align: middle;\n",
              "    }\n",
              "\n",
              "    .dataframe tbody tr th {\n",
              "        vertical-align: top;\n",
              "    }\n",
              "\n",
              "    .dataframe thead th {\n",
              "        text-align: right;\n",
              "    }\n",
              "</style>\n",
              "<table border=\"1\" class=\"dataframe\">\n",
              "  <thead>\n",
              "    <tr style=\"text-align: right;\">\n",
              "      <th></th>\n",
              "      <th>basement</th>\n",
              "    </tr>\n",
              "  </thead>\n",
              "  <tbody>\n",
              "    <tr>\n",
              "      <th>0</th>\n",
              "      <td>0</td>\n",
              "    </tr>\n",
              "    <tr>\n",
              "      <th>1</th>\n",
              "      <td>0</td>\n",
              "    </tr>\n",
              "    <tr>\n",
              "      <th>2</th>\n",
              "      <td>1</td>\n",
              "    </tr>\n",
              "    <tr>\n",
              "      <th>3</th>\n",
              "      <td>1</td>\n",
              "    </tr>\n",
              "    <tr>\n",
              "      <th>4</th>\n",
              "      <td>1</td>\n",
              "    </tr>\n",
              "    <tr>\n",
              "      <th>...</th>\n",
              "      <td>...</td>\n",
              "    </tr>\n",
              "    <tr>\n",
              "      <th>540</th>\n",
              "      <td>1</td>\n",
              "    </tr>\n",
              "    <tr>\n",
              "      <th>541</th>\n",
              "      <td>0</td>\n",
              "    </tr>\n",
              "    <tr>\n",
              "      <th>542</th>\n",
              "      <td>0</td>\n",
              "    </tr>\n",
              "    <tr>\n",
              "      <th>543</th>\n",
              "      <td>0</td>\n",
              "    </tr>\n",
              "    <tr>\n",
              "      <th>544</th>\n",
              "      <td>0</td>\n",
              "    </tr>\n",
              "  </tbody>\n",
              "</table>\n",
              "<p>545 rows × 1 columns</p>\n",
              "</div><br><label><b>dtype:</b> int64</label>"
<<<<<<< HEAD
            ],
            "text/plain": [
              "0      0\n",
              "1      0\n",
              "2      1\n",
              "3      1\n",
              "4      1\n",
              "      ..\n",
              "540    1\n",
              "541    0\n",
              "542    0\n",
              "543    0\n",
              "544    0\n",
              "Name: basement, Length: 545, dtype: int64"
            ]
          },
          "execution_count": 92,
          "metadata": {},
          "output_type": "execute_result"
        }
      ],
      "source": [
        "data[\"basement\"]=data[\"basement\"].map({\"yes\":1,\"no\":0})\n",
        "data[\"basement\"]"
=======
            ]
          },
          "metadata": {},
          "execution_count": 92
        }
>>>>>>> 44553d097760ac39607ebe122822a5c46932f2d4
      ]
    },
    {
      "cell_type": "code",
<<<<<<< HEAD
      "execution_count": null,
      "metadata": {},
      "outputs": [],
      "source": []
    },
    {
      "cell_type": "code",
      "execution_count": null,
=======
      "source": [
        "data[\"hotwaterheating\"]=data[\"hotwaterheating\"].map({\"yes\":1,\"no\":0})\n",
        "data[\"hotwaterheating\"]"
      ],
>>>>>>> 44553d097760ac39607ebe122822a5c46932f2d4
      "metadata": {
        "colab": {
          "base_uri": "https://localhost:8080/",
          "height": 458
        },
        "id": "BS4G16r-5IVn",
        "outputId": "6fdcd9c3-d779-454c-8e7e-fda3f2d3a643"
      },
<<<<<<< HEAD
      "outputs": [
        {
          "data": {
=======
      "execution_count": null,
      "outputs": [
        {
          "output_type": "execute_result",
          "data": {
            "text/plain": [
              "0      0\n",
              "1      0\n",
              "2      0\n",
              "3      0\n",
              "4      0\n",
              "      ..\n",
              "540    0\n",
              "541    0\n",
              "542    0\n",
              "543    0\n",
              "544    0\n",
              "Name: hotwaterheating, Length: 545, dtype: int64"
            ],
>>>>>>> 44553d097760ac39607ebe122822a5c46932f2d4
            "text/html": [
              "<div>\n",
              "<style scoped>\n",
              "    .dataframe tbody tr th:only-of-type {\n",
              "        vertical-align: middle;\n",
              "    }\n",
              "\n",
              "    .dataframe tbody tr th {\n",
              "        vertical-align: top;\n",
              "    }\n",
              "\n",
              "    .dataframe thead th {\n",
              "        text-align: right;\n",
              "    }\n",
              "</style>\n",
              "<table border=\"1\" class=\"dataframe\">\n",
              "  <thead>\n",
              "    <tr style=\"text-align: right;\">\n",
              "      <th></th>\n",
              "      <th>hotwaterheating</th>\n",
              "    </tr>\n",
              "  </thead>\n",
              "  <tbody>\n",
              "    <tr>\n",
              "      <th>0</th>\n",
              "      <td>0</td>\n",
              "    </tr>\n",
              "    <tr>\n",
              "      <th>1</th>\n",
              "      <td>0</td>\n",
              "    </tr>\n",
              "    <tr>\n",
              "      <th>2</th>\n",
              "      <td>0</td>\n",
              "    </tr>\n",
              "    <tr>\n",
              "      <th>3</th>\n",
              "      <td>0</td>\n",
              "    </tr>\n",
              "    <tr>\n",
              "      <th>4</th>\n",
              "      <td>0</td>\n",
              "    </tr>\n",
              "    <tr>\n",
              "      <th>...</th>\n",
              "      <td>...</td>\n",
              "    </tr>\n",
              "    <tr>\n",
              "      <th>540</th>\n",
              "      <td>0</td>\n",
              "    </tr>\n",
              "    <tr>\n",
              "      <th>541</th>\n",
              "      <td>0</td>\n",
              "    </tr>\n",
              "    <tr>\n",
              "      <th>542</th>\n",
              "      <td>0</td>\n",
              "    </tr>\n",
              "    <tr>\n",
              "      <th>543</th>\n",
              "      <td>0</td>\n",
              "    </tr>\n",
              "    <tr>\n",
              "      <th>544</th>\n",
              "      <td>0</td>\n",
              "    </tr>\n",
              "  </tbody>\n",
              "</table>\n",
              "<p>545 rows × 1 columns</p>\n",
              "</div><br><label><b>dtype:</b> int64</label>"
<<<<<<< HEAD
            ],
            "text/plain": [
              "0      0\n",
              "1      0\n",
              "2      0\n",
              "3      0\n",
              "4      0\n",
              "      ..\n",
              "540    0\n",
              "541    0\n",
              "542    0\n",
              "543    0\n",
              "544    0\n",
              "Name: hotwaterheating, Length: 545, dtype: int64"
            ]
          },
          "execution_count": 93,
          "metadata": {},
          "output_type": "execute_result"
        }
      ],
      "source": [
        "data[\"hotwaterheating\"]=data[\"hotwaterheating\"].map({\"yes\":1,\"no\":0})\n",
        "data[\"hotwaterheating\"]"
=======
            ]
          },
          "metadata": {},
          "execution_count": 93
        }
>>>>>>> 44553d097760ac39607ebe122822a5c46932f2d4
      ]
    },
    {
      "cell_type": "code",
<<<<<<< HEAD
      "execution_count": null,
=======
      "source": [
        "data[\"airconditioning\"]=data[\"airconditioning\"].map({\"yes\":1,\"no\":0})\n",
        "data[\"airconditioning\"]"
      ],
>>>>>>> 44553d097760ac39607ebe122822a5c46932f2d4
      "metadata": {
        "colab": {
          "base_uri": "https://localhost:8080/",
          "height": 458
        },
        "id": "7VhbsySo5SfO",
        "outputId": "81f74bb1-b765-41d1-f1a3-c69d38d996f6"
      },
<<<<<<< HEAD
      "outputs": [
        {
          "data": {
=======
      "execution_count": null,
      "outputs": [
        {
          "output_type": "execute_result",
          "data": {
            "text/plain": [
              "0      1\n",
              "1      1\n",
              "2      0\n",
              "3      1\n",
              "4      1\n",
              "      ..\n",
              "540    0\n",
              "541    0\n",
              "542    0\n",
              "543    0\n",
              "544    0\n",
              "Name: airconditioning, Length: 545, dtype: int64"
            ],
>>>>>>> 44553d097760ac39607ebe122822a5c46932f2d4
            "text/html": [
              "<div>\n",
              "<style scoped>\n",
              "    .dataframe tbody tr th:only-of-type {\n",
              "        vertical-align: middle;\n",
              "    }\n",
              "\n",
              "    .dataframe tbody tr th {\n",
              "        vertical-align: top;\n",
              "    }\n",
              "\n",
              "    .dataframe thead th {\n",
              "        text-align: right;\n",
              "    }\n",
              "</style>\n",
              "<table border=\"1\" class=\"dataframe\">\n",
              "  <thead>\n",
              "    <tr style=\"text-align: right;\">\n",
              "      <th></th>\n",
              "      <th>airconditioning</th>\n",
              "    </tr>\n",
              "  </thead>\n",
              "  <tbody>\n",
              "    <tr>\n",
              "      <th>0</th>\n",
              "      <td>1</td>\n",
              "    </tr>\n",
              "    <tr>\n",
              "      <th>1</th>\n",
              "      <td>1</td>\n",
              "    </tr>\n",
              "    <tr>\n",
              "      <th>2</th>\n",
              "      <td>0</td>\n",
              "    </tr>\n",
              "    <tr>\n",
              "      <th>3</th>\n",
              "      <td>1</td>\n",
              "    </tr>\n",
              "    <tr>\n",
              "      <th>4</th>\n",
              "      <td>1</td>\n",
              "    </tr>\n",
              "    <tr>\n",
              "      <th>...</th>\n",
              "      <td>...</td>\n",
              "    </tr>\n",
              "    <tr>\n",
              "      <th>540</th>\n",
              "      <td>0</td>\n",
              "    </tr>\n",
              "    <tr>\n",
              "      <th>541</th>\n",
              "      <td>0</td>\n",
              "    </tr>\n",
              "    <tr>\n",
              "      <th>542</th>\n",
              "      <td>0</td>\n",
              "    </tr>\n",
              "    <tr>\n",
              "      <th>543</th>\n",
              "      <td>0</td>\n",
              "    </tr>\n",
              "    <tr>\n",
              "      <th>544</th>\n",
              "      <td>0</td>\n",
              "    </tr>\n",
              "  </tbody>\n",
              "</table>\n",
              "<p>545 rows × 1 columns</p>\n",
              "</div><br><label><b>dtype:</b> int64</label>"
<<<<<<< HEAD
            ],
            "text/plain": [
              "0      1\n",
              "1      1\n",
              "2      0\n",
              "3      1\n",
              "4      1\n",
              "      ..\n",
              "540    0\n",
              "541    0\n",
              "542    0\n",
              "543    0\n",
              "544    0\n",
              "Name: airconditioning, Length: 545, dtype: int64"
            ]
          },
          "execution_count": 94,
          "metadata": {},
          "output_type": "execute_result"
        }
      ],
      "source": [
        "data[\"airconditioning\"]=data[\"airconditioning\"].map({\"yes\":1,\"no\":0})\n",
        "data[\"airconditioning\"]"
=======
            ]
          },
          "metadata": {},
          "execution_count": 94
        }
>>>>>>> 44553d097760ac39607ebe122822a5c46932f2d4
      ]
    },
    {
      "cell_type": "code",
<<<<<<< HEAD
      "execution_count": null,
=======
      "source": [
        "data[\"prefarea\"]=data[\"prefarea\"].map({\"yes\":1,\"no\":0})\n",
        "data[\"prefarea\"]"
      ],
>>>>>>> 44553d097760ac39607ebe122822a5c46932f2d4
      "metadata": {
        "colab": {
          "base_uri": "https://localhost:8080/",
          "height": 458
        },
        "id": "z-xdXH_D5U-A",
        "outputId": "c75700d8-1cc8-4761-d704-00a4fa6694a2"
      },
<<<<<<< HEAD
      "outputs": [
        {
          "data": {
=======
      "execution_count": null,
      "outputs": [
        {
          "output_type": "execute_result",
          "data": {
            "text/plain": [
              "0      1\n",
              "1      0\n",
              "2      1\n",
              "3      1\n",
              "4      0\n",
              "      ..\n",
              "540    0\n",
              "541    0\n",
              "542    0\n",
              "543    0\n",
              "544    0\n",
              "Name: prefarea, Length: 545, dtype: int64"
            ],
>>>>>>> 44553d097760ac39607ebe122822a5c46932f2d4
            "text/html": [
              "<div>\n",
              "<style scoped>\n",
              "    .dataframe tbody tr th:only-of-type {\n",
              "        vertical-align: middle;\n",
              "    }\n",
              "\n",
              "    .dataframe tbody tr th {\n",
              "        vertical-align: top;\n",
              "    }\n",
              "\n",
              "    .dataframe thead th {\n",
              "        text-align: right;\n",
              "    }\n",
              "</style>\n",
              "<table border=\"1\" class=\"dataframe\">\n",
              "  <thead>\n",
              "    <tr style=\"text-align: right;\">\n",
              "      <th></th>\n",
              "      <th>prefarea</th>\n",
              "    </tr>\n",
              "  </thead>\n",
              "  <tbody>\n",
              "    <tr>\n",
              "      <th>0</th>\n",
              "      <td>1</td>\n",
              "    </tr>\n",
              "    <tr>\n",
              "      <th>1</th>\n",
              "      <td>0</td>\n",
              "    </tr>\n",
              "    <tr>\n",
              "      <th>2</th>\n",
              "      <td>1</td>\n",
              "    </tr>\n",
              "    <tr>\n",
              "      <th>3</th>\n",
              "      <td>1</td>\n",
              "    </tr>\n",
              "    <tr>\n",
              "      <th>4</th>\n",
              "      <td>0</td>\n",
              "    </tr>\n",
              "    <tr>\n",
              "      <th>...</th>\n",
              "      <td>...</td>\n",
              "    </tr>\n",
              "    <tr>\n",
              "      <th>540</th>\n",
              "      <td>0</td>\n",
              "    </tr>\n",
              "    <tr>\n",
              "      <th>541</th>\n",
              "      <td>0</td>\n",
              "    </tr>\n",
              "    <tr>\n",
              "      <th>542</th>\n",
              "      <td>0</td>\n",
              "    </tr>\n",
              "    <tr>\n",
              "      <th>543</th>\n",
              "      <td>0</td>\n",
              "    </tr>\n",
              "    <tr>\n",
              "      <th>544</th>\n",
              "      <td>0</td>\n",
              "    </tr>\n",
              "  </tbody>\n",
              "</table>\n",
              "<p>545 rows × 1 columns</p>\n",
              "</div><br><label><b>dtype:</b> int64</label>"
<<<<<<< HEAD
            ],
            "text/plain": [
              "0      1\n",
              "1      0\n",
              "2      1\n",
              "3      1\n",
              "4      0\n",
              "      ..\n",
              "540    0\n",
              "541    0\n",
              "542    0\n",
              "543    0\n",
              "544    0\n",
              "Name: prefarea, Length: 545, dtype: int64"
            ]
          },
          "execution_count": 95,
          "metadata": {},
          "output_type": "execute_result"
        }
      ],
      "source": [
        "data[\"prefarea\"]=data[\"prefarea\"].map({\"yes\":1,\"no\":0})\n",
        "data[\"prefarea\"]"
=======
            ]
          },
          "metadata": {},
          "execution_count": 95
        }
>>>>>>> 44553d097760ac39607ebe122822a5c46932f2d4
      ]
    },
    {
      "cell_type": "code",
<<<<<<< HEAD
      "execution_count": null,
=======
      "source": [
        "data[\"furnishingstatus\"] = data[\"furnishingstatus\"].map({\"furnished\": 1, \"unfurnished\": 0, \"semi-furnished\": 2})\n",
        "data[\"furnishingstatus\"]"
      ],
>>>>>>> 44553d097760ac39607ebe122822a5c46932f2d4
      "metadata": {
        "colab": {
          "base_uri": "https://localhost:8080/",
          "height": 458
        },
        "id": "tJzEGbIz90d5",
        "outputId": "42757f99-4092-4efb-eef7-423b9c92a0a5"
      },
<<<<<<< HEAD
      "outputs": [
        {
          "data": {
=======
      "execution_count": null,
      "outputs": [
        {
          "output_type": "execute_result",
          "data": {
            "text/plain": [
              "0      1\n",
              "1      1\n",
              "2      2\n",
              "3      1\n",
              "4      1\n",
              "      ..\n",
              "540    0\n",
              "541    2\n",
              "542    0\n",
              "543    1\n",
              "544    0\n",
              "Name: furnishingstatus, Length: 545, dtype: int64"
            ],
>>>>>>> 44553d097760ac39607ebe122822a5c46932f2d4
            "text/html": [
              "<div>\n",
              "<style scoped>\n",
              "    .dataframe tbody tr th:only-of-type {\n",
              "        vertical-align: middle;\n",
              "    }\n",
              "\n",
              "    .dataframe tbody tr th {\n",
              "        vertical-align: top;\n",
              "    }\n",
              "\n",
              "    .dataframe thead th {\n",
              "        text-align: right;\n",
              "    }\n",
              "</style>\n",
              "<table border=\"1\" class=\"dataframe\">\n",
              "  <thead>\n",
              "    <tr style=\"text-align: right;\">\n",
              "      <th></th>\n",
              "      <th>furnishingstatus</th>\n",
              "    </tr>\n",
              "  </thead>\n",
              "  <tbody>\n",
              "    <tr>\n",
              "      <th>0</th>\n",
              "      <td>1</td>\n",
              "    </tr>\n",
              "    <tr>\n",
              "      <th>1</th>\n",
              "      <td>1</td>\n",
              "    </tr>\n",
              "    <tr>\n",
              "      <th>2</th>\n",
              "      <td>2</td>\n",
              "    </tr>\n",
              "    <tr>\n",
              "      <th>3</th>\n",
              "      <td>1</td>\n",
              "    </tr>\n",
              "    <tr>\n",
              "      <th>4</th>\n",
              "      <td>1</td>\n",
              "    </tr>\n",
              "    <tr>\n",
              "      <th>...</th>\n",
              "      <td>...</td>\n",
              "    </tr>\n",
              "    <tr>\n",
              "      <th>540</th>\n",
              "      <td>0</td>\n",
              "    </tr>\n",
              "    <tr>\n",
              "      <th>541</th>\n",
              "      <td>2</td>\n",
              "    </tr>\n",
              "    <tr>\n",
              "      <th>542</th>\n",
              "      <td>0</td>\n",
              "    </tr>\n",
              "    <tr>\n",
              "      <th>543</th>\n",
              "      <td>1</td>\n",
              "    </tr>\n",
              "    <tr>\n",
              "      <th>544</th>\n",
              "      <td>0</td>\n",
              "    </tr>\n",
              "  </tbody>\n",
              "</table>\n",
              "<p>545 rows × 1 columns</p>\n",
              "</div><br><label><b>dtype:</b> int64</label>"
<<<<<<< HEAD
            ],
            "text/plain": [
              "0      1\n",
              "1      1\n",
              "2      2\n",
              "3      1\n",
              "4      1\n",
              "      ..\n",
              "540    0\n",
              "541    2\n",
              "542    0\n",
              "543    1\n",
              "544    0\n",
              "Name: furnishingstatus, Length: 545, dtype: int64"
            ]
          },
          "execution_count": 96,
          "metadata": {},
          "output_type": "execute_result"
        }
      ],
      "source": [
        "data[\"furnishingstatus\"] = data[\"furnishingstatus\"].map({\"furnished\": 1, \"unfurnished\": 0, \"semi-furnished\": 2})\n",
        "data[\"furnishingstatus\"]"
=======
            ]
          },
          "metadata": {},
          "execution_count": 96
        }
>>>>>>> 44553d097760ac39607ebe122822a5c46932f2d4
      ]
    },
    {
      "cell_type": "code",
<<<<<<< HEAD
      "execution_count": null,
=======
      "source": [
        "from sklearn.linear_model import LinearRegression\n",
        "y=data[\"price\"]\n",
        "y"
      ],
>>>>>>> 44553d097760ac39607ebe122822a5c46932f2d4
      "metadata": {
        "colab": {
          "base_uri": "https://localhost:8080/",
          "height": 458
        },
        "id": "a0Hl0_qO5y3X",
        "outputId": "2c9d14ac-9867-4e07-9502-8d4dfa200fc2"
      },
<<<<<<< HEAD
      "outputs": [
        {
          "data": {
=======
      "execution_count": null,
      "outputs": [
        {
          "output_type": "execute_result",
          "data": {
            "text/plain": [
              "0      13300000\n",
              "1      12250000\n",
              "2      12250000\n",
              "3      12215000\n",
              "4      11410000\n",
              "         ...   \n",
              "540     1820000\n",
              "541     1767150\n",
              "542     1750000\n",
              "543     1750000\n",
              "544     1750000\n",
              "Name: price, Length: 545, dtype: int64"
            ],
>>>>>>> 44553d097760ac39607ebe122822a5c46932f2d4
            "text/html": [
              "<div>\n",
              "<style scoped>\n",
              "    .dataframe tbody tr th:only-of-type {\n",
              "        vertical-align: middle;\n",
              "    }\n",
              "\n",
              "    .dataframe tbody tr th {\n",
              "        vertical-align: top;\n",
              "    }\n",
              "\n",
              "    .dataframe thead th {\n",
              "        text-align: right;\n",
              "    }\n",
              "</style>\n",
              "<table border=\"1\" class=\"dataframe\">\n",
              "  <thead>\n",
              "    <tr style=\"text-align: right;\">\n",
              "      <th></th>\n",
              "      <th>price</th>\n",
              "    </tr>\n",
              "  </thead>\n",
              "  <tbody>\n",
              "    <tr>\n",
              "      <th>0</th>\n",
              "      <td>13300000</td>\n",
              "    </tr>\n",
              "    <tr>\n",
              "      <th>1</th>\n",
              "      <td>12250000</td>\n",
              "    </tr>\n",
              "    <tr>\n",
              "      <th>2</th>\n",
              "      <td>12250000</td>\n",
              "    </tr>\n",
              "    <tr>\n",
              "      <th>3</th>\n",
              "      <td>12215000</td>\n",
              "    </tr>\n",
              "    <tr>\n",
              "      <th>4</th>\n",
              "      <td>11410000</td>\n",
              "    </tr>\n",
              "    <tr>\n",
              "      <th>...</th>\n",
              "      <td>...</td>\n",
              "    </tr>\n",
              "    <tr>\n",
              "      <th>540</th>\n",
              "      <td>1820000</td>\n",
              "    </tr>\n",
              "    <tr>\n",
              "      <th>541</th>\n",
              "      <td>1767150</td>\n",
              "    </tr>\n",
              "    <tr>\n",
              "      <th>542</th>\n",
              "      <td>1750000</td>\n",
              "    </tr>\n",
              "    <tr>\n",
              "      <th>543</th>\n",
              "      <td>1750000</td>\n",
              "    </tr>\n",
              "    <tr>\n",
              "      <th>544</th>\n",
              "      <td>1750000</td>\n",
              "    </tr>\n",
              "  </tbody>\n",
              "</table>\n",
              "<p>545 rows × 1 columns</p>\n",
              "</div><br><label><b>dtype:</b> int64</label>"
<<<<<<< HEAD
            ],
            "text/plain": [
              "0      13300000\n",
              "1      12250000\n",
              "2      12250000\n",
              "3      12215000\n",
              "4      11410000\n",
              "         ...   \n",
              "540     1820000\n",
              "541     1767150\n",
              "542     1750000\n",
              "543     1750000\n",
              "544     1750000\n",
              "Name: price, Length: 545, dtype: int64"
            ]
          },
          "execution_count": 97,
          "metadata": {},
          "output_type": "execute_result"
        }
      ],
      "source": [
        "from sklearn.linear_model import LinearRegression\n",
        "y=data[\"price\"]\n",
        "y"
=======
            ]
          },
          "metadata": {},
          "execution_count": 97
        }
>>>>>>> 44553d097760ac39607ebe122822a5c46932f2d4
      ]
    },
    {
      "cell_type": "code",
<<<<<<< HEAD
      "execution_count": null,
      "metadata": {
        "id": "Okb8IkGQ6Nmk"
      },
      "outputs": [],
=======
>>>>>>> 44553d097760ac39607ebe122822a5c46932f2d4
      "source": [
        "# Split features (X) and target (y)\n",
        "X = data.drop('price', axis=1)\n",
        "y = data['price']"
<<<<<<< HEAD
      ]
    },
    {
      "cell_type": "code",
      "execution_count": null,
      "metadata": {
        "id": "YoZ378g06UBM"
      },
      "outputs": [],
=======
      ],
      "metadata": {
        "id": "Okb8IkGQ6Nmk"
      },
      "execution_count": null,
      "outputs": []
    },
    {
      "cell_type": "code",
>>>>>>> 44553d097760ac39607ebe122822a5c46932f2d4
      "source": [
        "from sklearn.model_selection import train_test_split  # For train-test splitting\n",
        "# 80% training, 20% testing\n",
        "X_train, X_test, y_train, y_test = train_test_split(X, y, test_size=0.2, random_state=42)"
<<<<<<< HEAD
      ]
    },
    {
      "cell_type": "code",
      "execution_count": null,
=======
      ],
      "metadata": {
        "id": "YoZ378g06UBM"
      },
      "execution_count": null,
      "outputs": []
    },
    {
      "cell_type": "code",
      "source": [
        "print(data.dtypes)"
      ],
>>>>>>> 44553d097760ac39607ebe122822a5c46932f2d4
      "metadata": {
        "colab": {
          "base_uri": "https://localhost:8080/"
        },
        "id": "vJ8sBY4fBMj1",
        "outputId": "9441a34b-b4e1-47a2-bf94-2ceaa34ec737"
      },
<<<<<<< HEAD
      "outputs": [
        {
          "name": "stdout",
          "output_type": "stream",
=======
      "execution_count": null,
      "outputs": [
        {
          "output_type": "stream",
          "name": "stdout",
>>>>>>> 44553d097760ac39607ebe122822a5c46932f2d4
          "text": [
            "price               int64\n",
            "area                int64\n",
            "bedrooms            int64\n",
            "bathrooms           int64\n",
            "stories             int64\n",
            "mainroad            int64\n",
            "guestroom           int64\n",
            "basement            int64\n",
            "hotwaterheating     int64\n",
            "airconditioning     int64\n",
            "parking             int64\n",
            "prefarea            int64\n",
            "furnishingstatus    int64\n",
            "dtype: object\n"
          ]
        }
<<<<<<< HEAD
      ],
      "source": [
        "print(data.dtypes)"
=======
>>>>>>> 44553d097760ac39607ebe122822a5c46932f2d4
      ]
    },
    {
      "cell_type": "code",
<<<<<<< HEAD
      "execution_count": null,
=======
      "source": [
        "from sklearn.linear_model import LinearRegression  # For linear regression model\n",
        "model = LinearRegression()\n",
        "model.fit(X_train, y_train)"
      ],
>>>>>>> 44553d097760ac39607ebe122822a5c46932f2d4
      "metadata": {
        "colab": {
          "base_uri": "https://localhost:8080/",
          "height": 80
        },
        "id": "-fT9nWUXCKdu",
        "outputId": "fbd55b98-63ea-439a-a5e7-573cf7922a4b"
      },
<<<<<<< HEAD
      "outputs": [
        {
          "data": {
=======
      "execution_count": null,
      "outputs": [
        {
          "output_type": "execute_result",
          "data": {
            "text/plain": [
              "LinearRegression()"
            ],
>>>>>>> 44553d097760ac39607ebe122822a5c46932f2d4
            "text/html": [
              "<style>#sk-container-id-5 {\n",
              "  /* Definition of color scheme common for light and dark mode */\n",
              "  --sklearn-color-text: #000;\n",
              "  --sklearn-color-text-muted: #666;\n",
              "  --sklearn-color-line: gray;\n",
              "  /* Definition of color scheme for unfitted estimators */\n",
              "  --sklearn-color-unfitted-level-0: #fff5e6;\n",
              "  --sklearn-color-unfitted-level-1: #f6e4d2;\n",
              "  --sklearn-color-unfitted-level-2: #ffe0b3;\n",
              "  --sklearn-color-unfitted-level-3: chocolate;\n",
              "  /* Definition of color scheme for fitted estimators */\n",
              "  --sklearn-color-fitted-level-0: #f0f8ff;\n",
              "  --sklearn-color-fitted-level-1: #d4ebff;\n",
              "  --sklearn-color-fitted-level-2: #b3dbfd;\n",
              "  --sklearn-color-fitted-level-3: cornflowerblue;\n",
              "\n",
              "  /* Specific color for light theme */\n",
              "  --sklearn-color-text-on-default-background: var(--sg-text-color, var(--theme-code-foreground, var(--jp-content-font-color1, black)));\n",
              "  --sklearn-color-background: var(--sg-background-color, var(--theme-background, var(--jp-layout-color0, white)));\n",
              "  --sklearn-color-border-box: var(--sg-text-color, var(--theme-code-foreground, var(--jp-content-font-color1, black)));\n",
              "  --sklearn-color-icon: #696969;\n",
              "\n",
              "  @media (prefers-color-scheme: dark) {\n",
              "    /* Redefinition of color scheme for dark theme */\n",
              "    --sklearn-color-text-on-default-background: var(--sg-text-color, var(--theme-code-foreground, var(--jp-content-font-color1, white)));\n",
              "    --sklearn-color-background: var(--sg-background-color, var(--theme-background, var(--jp-layout-color0, #111)));\n",
              "    --sklearn-color-border-box: var(--sg-text-color, var(--theme-code-foreground, var(--jp-content-font-color1, white)));\n",
              "    --sklearn-color-icon: #878787;\n",
              "  }\n",
              "}\n",
              "\n",
              "#sk-container-id-5 {\n",
              "  color: var(--sklearn-color-text);\n",
              "}\n",
              "\n",
              "#sk-container-id-5 pre {\n",
              "  padding: 0;\n",
              "}\n",
              "\n",
              "#sk-container-id-5 input.sk-hidden--visually {\n",
              "  border: 0;\n",
              "  clip: rect(1px 1px 1px 1px);\n",
              "  clip: rect(1px, 1px, 1px, 1px);\n",
              "  height: 1px;\n",
              "  margin: -1px;\n",
              "  overflow: hidden;\n",
              "  padding: 0;\n",
              "  position: absolute;\n",
              "  width: 1px;\n",
              "}\n",
              "\n",
              "#sk-container-id-5 div.sk-dashed-wrapped {\n",
              "  border: 1px dashed var(--sklearn-color-line);\n",
              "  margin: 0 0.4em 0.5em 0.4em;\n",
              "  box-sizing: border-box;\n",
              "  padding-bottom: 0.4em;\n",
              "  background-color: var(--sklearn-color-background);\n",
              "}\n",
              "\n",
              "#sk-container-id-5 div.sk-container {\n",
              "  /* jupyter's `normalize.less` sets `[hidden] { display: none; }`\n",
              "     but bootstrap.min.css set `[hidden] { display: none !important; }`\n",
              "     so we also need the `!important` here to be able to override the\n",
              "     default hidden behavior on the sphinx rendered scikit-learn.org.\n",
              "     See: https://github.com/scikit-learn/scikit-learn/issues/21755 */\n",
              "  display: inline-block !important;\n",
              "  position: relative;\n",
              "}\n",
              "\n",
              "#sk-container-id-5 div.sk-text-repr-fallback {\n",
              "  display: none;\n",
              "}\n",
              "\n",
              "div.sk-parallel-item,\n",
              "div.sk-serial,\n",
              "div.sk-item {\n",
              "  /* draw centered vertical line to link estimators */\n",
              "  background-image: linear-gradient(var(--sklearn-color-text-on-default-background), var(--sklearn-color-text-on-default-background));\n",
              "  background-size: 2px 100%;\n",
              "  background-repeat: no-repeat;\n",
              "  background-position: center center;\n",
              "}\n",
              "\n",
              "/* Parallel-specific style estimator block */\n",
              "\n",
              "#sk-container-id-5 div.sk-parallel-item::after {\n",
              "  content: \"\";\n",
              "  width: 100%;\n",
              "  border-bottom: 2px solid var(--sklearn-color-text-on-default-background);\n",
              "  flex-grow: 1;\n",
              "}\n",
              "\n",
              "#sk-container-id-5 div.sk-parallel {\n",
              "  display: flex;\n",
              "  align-items: stretch;\n",
              "  justify-content: center;\n",
              "  background-color: var(--sklearn-color-background);\n",
              "  position: relative;\n",
              "}\n",
              "\n",
              "#sk-container-id-5 div.sk-parallel-item {\n",
              "  display: flex;\n",
              "  flex-direction: column;\n",
              "}\n",
              "\n",
              "#sk-container-id-5 div.sk-parallel-item:first-child::after {\n",
              "  align-self: flex-end;\n",
              "  width: 50%;\n",
              "}\n",
              "\n",
              "#sk-container-id-5 div.sk-parallel-item:last-child::after {\n",
              "  align-self: flex-start;\n",
              "  width: 50%;\n",
              "}\n",
              "\n",
              "#sk-container-id-5 div.sk-parallel-item:only-child::after {\n",
              "  width: 0;\n",
              "}\n",
              "\n",
              "/* Serial-specific style estimator block */\n",
              "\n",
              "#sk-container-id-5 div.sk-serial {\n",
              "  display: flex;\n",
              "  flex-direction: column;\n",
              "  align-items: center;\n",
              "  background-color: var(--sklearn-color-background);\n",
              "  padding-right: 1em;\n",
              "  padding-left: 1em;\n",
              "}\n",
              "\n",
              "\n",
              "/* Toggleable style: style used for estimator/Pipeline/ColumnTransformer box that is\n",
              "clickable and can be expanded/collapsed.\n",
              "- Pipeline and ColumnTransformer use this feature and define the default style\n",
              "- Estimators will overwrite some part of the style using the `sk-estimator` class\n",
              "*/\n",
              "\n",
              "/* Pipeline and ColumnTransformer style (default) */\n",
              "\n",
              "#sk-container-id-5 div.sk-toggleable {\n",
              "  /* Default theme specific background. It is overwritten whether we have a\n",
              "  specific estimator or a Pipeline/ColumnTransformer */\n",
              "  background-color: var(--sklearn-color-background);\n",
              "}\n",
              "\n",
              "/* Toggleable label */\n",
              "#sk-container-id-5 label.sk-toggleable__label {\n",
              "  cursor: pointer;\n",
              "  display: flex;\n",
              "  width: 100%;\n",
              "  margin-bottom: 0;\n",
              "  padding: 0.5em;\n",
              "  box-sizing: border-box;\n",
              "  text-align: center;\n",
              "  align-items: start;\n",
              "  justify-content: space-between;\n",
              "  gap: 0.5em;\n",
              "}\n",
              "\n",
              "#sk-container-id-5 label.sk-toggleable__label .caption {\n",
              "  font-size: 0.6rem;\n",
              "  font-weight: lighter;\n",
              "  color: var(--sklearn-color-text-muted);\n",
              "}\n",
              "\n",
              "#sk-container-id-5 label.sk-toggleable__label-arrow:before {\n",
              "  /* Arrow on the left of the label */\n",
              "  content: \"▸\";\n",
              "  float: left;\n",
              "  margin-right: 0.25em;\n",
              "  color: var(--sklearn-color-icon);\n",
              "}\n",
              "\n",
              "#sk-container-id-5 label.sk-toggleable__label-arrow:hover:before {\n",
              "  color: var(--sklearn-color-text);\n",
              "}\n",
              "\n",
              "/* Toggleable content - dropdown */\n",
              "\n",
              "#sk-container-id-5 div.sk-toggleable__content {\n",
              "  max-height: 0;\n",
              "  max-width: 0;\n",
              "  overflow: hidden;\n",
              "  text-align: left;\n",
              "  /* unfitted */\n",
              "  background-color: var(--sklearn-color-unfitted-level-0);\n",
              "}\n",
              "\n",
              "#sk-container-id-5 div.sk-toggleable__content.fitted {\n",
              "  /* fitted */\n",
              "  background-color: var(--sklearn-color-fitted-level-0);\n",
              "}\n",
              "\n",
              "#sk-container-id-5 div.sk-toggleable__content pre {\n",
              "  margin: 0.2em;\n",
              "  border-radius: 0.25em;\n",
              "  color: var(--sklearn-color-text);\n",
              "  /* unfitted */\n",
              "  background-color: var(--sklearn-color-unfitted-level-0);\n",
              "}\n",
              "\n",
              "#sk-container-id-5 div.sk-toggleable__content.fitted pre {\n",
              "  /* unfitted */\n",
              "  background-color: var(--sklearn-color-fitted-level-0);\n",
              "}\n",
              "\n",
              "#sk-container-id-5 input.sk-toggleable__control:checked~div.sk-toggleable__content {\n",
              "  /* Expand drop-down */\n",
              "  max-height: 200px;\n",
              "  max-width: 100%;\n",
              "  overflow: auto;\n",
              "}\n",
              "\n",
              "#sk-container-id-5 input.sk-toggleable__control:checked~label.sk-toggleable__label-arrow:before {\n",
              "  content: \"▾\";\n",
              "}\n",
              "\n",
              "/* Pipeline/ColumnTransformer-specific style */\n",
              "\n",
              "#sk-container-id-5 div.sk-label input.sk-toggleable__control:checked~label.sk-toggleable__label {\n",
              "  color: var(--sklearn-color-text);\n",
              "  background-color: var(--sklearn-color-unfitted-level-2);\n",
              "}\n",
              "\n",
              "#sk-container-id-5 div.sk-label.fitted input.sk-toggleable__control:checked~label.sk-toggleable__label {\n",
              "  background-color: var(--sklearn-color-fitted-level-2);\n",
              "}\n",
              "\n",
              "/* Estimator-specific style */\n",
              "\n",
              "/* Colorize estimator box */\n",
              "#sk-container-id-5 div.sk-estimator input.sk-toggleable__control:checked~label.sk-toggleable__label {\n",
              "  /* unfitted */\n",
              "  background-color: var(--sklearn-color-unfitted-level-2);\n",
              "}\n",
              "\n",
              "#sk-container-id-5 div.sk-estimator.fitted input.sk-toggleable__control:checked~label.sk-toggleable__label {\n",
              "  /* fitted */\n",
              "  background-color: var(--sklearn-color-fitted-level-2);\n",
              "}\n",
              "\n",
              "#sk-container-id-5 div.sk-label label.sk-toggleable__label,\n",
              "#sk-container-id-5 div.sk-label label {\n",
              "  /* The background is the default theme color */\n",
              "  color: var(--sklearn-color-text-on-default-background);\n",
              "}\n",
              "\n",
              "/* On hover, darken the color of the background */\n",
              "#sk-container-id-5 div.sk-label:hover label.sk-toggleable__label {\n",
              "  color: var(--sklearn-color-text);\n",
              "  background-color: var(--sklearn-color-unfitted-level-2);\n",
              "}\n",
              "\n",
              "/* Label box, darken color on hover, fitted */\n",
              "#sk-container-id-5 div.sk-label.fitted:hover label.sk-toggleable__label.fitted {\n",
              "  color: var(--sklearn-color-text);\n",
              "  background-color: var(--sklearn-color-fitted-level-2);\n",
              "}\n",
              "\n",
              "/* Estimator label */\n",
              "\n",
              "#sk-container-id-5 div.sk-label label {\n",
              "  font-family: monospace;\n",
              "  font-weight: bold;\n",
              "  display: inline-block;\n",
              "  line-height: 1.2em;\n",
              "}\n",
              "\n",
              "#sk-container-id-5 div.sk-label-container {\n",
              "  text-align: center;\n",
              "}\n",
              "\n",
              "/* Estimator-specific */\n",
              "#sk-container-id-5 div.sk-estimator {\n",
              "  font-family: monospace;\n",
              "  border: 1px dotted var(--sklearn-color-border-box);\n",
              "  border-radius: 0.25em;\n",
              "  box-sizing: border-box;\n",
              "  margin-bottom: 0.5em;\n",
              "  /* unfitted */\n",
              "  background-color: var(--sklearn-color-unfitted-level-0);\n",
              "}\n",
              "\n",
              "#sk-container-id-5 div.sk-estimator.fitted {\n",
              "  /* fitted */\n",
              "  background-color: var(--sklearn-color-fitted-level-0);\n",
              "}\n",
              "\n",
              "/* on hover */\n",
              "#sk-container-id-5 div.sk-estimator:hover {\n",
              "  /* unfitted */\n",
              "  background-color: var(--sklearn-color-unfitted-level-2);\n",
              "}\n",
              "\n",
              "#sk-container-id-5 div.sk-estimator.fitted:hover {\n",
              "  /* fitted */\n",
              "  background-color: var(--sklearn-color-fitted-level-2);\n",
              "}\n",
              "\n",
              "/* Specification for estimator info (e.g. \"i\" and \"?\") */\n",
              "\n",
              "/* Common style for \"i\" and \"?\" */\n",
              "\n",
              ".sk-estimator-doc-link,\n",
              "a:link.sk-estimator-doc-link,\n",
              "a:visited.sk-estimator-doc-link {\n",
              "  float: right;\n",
              "  font-size: smaller;\n",
              "  line-height: 1em;\n",
              "  font-family: monospace;\n",
              "  background-color: var(--sklearn-color-background);\n",
              "  border-radius: 1em;\n",
              "  height: 1em;\n",
              "  width: 1em;\n",
              "  text-decoration: none !important;\n",
              "  margin-left: 0.5em;\n",
              "  text-align: center;\n",
              "  /* unfitted */\n",
              "  border: var(--sklearn-color-unfitted-level-1) 1pt solid;\n",
              "  color: var(--sklearn-color-unfitted-level-1);\n",
              "}\n",
              "\n",
              ".sk-estimator-doc-link.fitted,\n",
              "a:link.sk-estimator-doc-link.fitted,\n",
              "a:visited.sk-estimator-doc-link.fitted {\n",
              "  /* fitted */\n",
              "  border: var(--sklearn-color-fitted-level-1) 1pt solid;\n",
              "  color: var(--sklearn-color-fitted-level-1);\n",
              "}\n",
              "\n",
              "/* On hover */\n",
              "div.sk-estimator:hover .sk-estimator-doc-link:hover,\n",
              ".sk-estimator-doc-link:hover,\n",
              "div.sk-label-container:hover .sk-estimator-doc-link:hover,\n",
              ".sk-estimator-doc-link:hover {\n",
              "  /* unfitted */\n",
              "  background-color: var(--sklearn-color-unfitted-level-3);\n",
              "  color: var(--sklearn-color-background);\n",
              "  text-decoration: none;\n",
              "}\n",
              "\n",
              "div.sk-estimator.fitted:hover .sk-estimator-doc-link.fitted:hover,\n",
              ".sk-estimator-doc-link.fitted:hover,\n",
              "div.sk-label-container:hover .sk-estimator-doc-link.fitted:hover,\n",
              ".sk-estimator-doc-link.fitted:hover {\n",
              "  /* fitted */\n",
              "  background-color: var(--sklearn-color-fitted-level-3);\n",
              "  color: var(--sklearn-color-background);\n",
              "  text-decoration: none;\n",
              "}\n",
              "\n",
              "/* Span, style for the box shown on hovering the info icon */\n",
              ".sk-estimator-doc-link span {\n",
              "  display: none;\n",
              "  z-index: 9999;\n",
              "  position: relative;\n",
              "  font-weight: normal;\n",
              "  right: .2ex;\n",
              "  padding: .5ex;\n",
              "  margin: .5ex;\n",
              "  width: min-content;\n",
              "  min-width: 20ex;\n",
              "  max-width: 50ex;\n",
              "  color: var(--sklearn-color-text);\n",
              "  box-shadow: 2pt 2pt 4pt #999;\n",
              "  /* unfitted */\n",
              "  background: var(--sklearn-color-unfitted-level-0);\n",
              "  border: .5pt solid var(--sklearn-color-unfitted-level-3);\n",
              "}\n",
              "\n",
              ".sk-estimator-doc-link.fitted span {\n",
              "  /* fitted */\n",
              "  background: var(--sklearn-color-fitted-level-0);\n",
              "  border: var(--sklearn-color-fitted-level-3);\n",
              "}\n",
              "\n",
              ".sk-estimator-doc-link:hover span {\n",
              "  display: block;\n",
              "}\n",
              "\n",
              "/* \"?\"-specific style due to the `<a>` HTML tag */\n",
              "\n",
              "#sk-container-id-5 a.estimator_doc_link {\n",
              "  float: right;\n",
              "  font-size: 1rem;\n",
              "  line-height: 1em;\n",
              "  font-family: monospace;\n",
              "  background-color: var(--sklearn-color-background);\n",
              "  border-radius: 1rem;\n",
              "  height: 1rem;\n",
              "  width: 1rem;\n",
              "  text-decoration: none;\n",
              "  /* unfitted */\n",
              "  color: var(--sklearn-color-unfitted-level-1);\n",
              "  border: var(--sklearn-color-unfitted-level-1) 1pt solid;\n",
              "}\n",
              "\n",
              "#sk-container-id-5 a.estimator_doc_link.fitted {\n",
              "  /* fitted */\n",
              "  border: var(--sklearn-color-fitted-level-1) 1pt solid;\n",
              "  color: var(--sklearn-color-fitted-level-1);\n",
              "}\n",
              "\n",
              "/* On hover */\n",
              "#sk-container-id-5 a.estimator_doc_link:hover {\n",
              "  /* unfitted */\n",
              "  background-color: var(--sklearn-color-unfitted-level-3);\n",
              "  color: var(--sklearn-color-background);\n",
              "  text-decoration: none;\n",
              "}\n",
              "\n",
              "#sk-container-id-5 a.estimator_doc_link.fitted:hover {\n",
              "  /* fitted */\n",
              "  background-color: var(--sklearn-color-fitted-level-3);\n",
              "}\n",
              "</style><div id=\"sk-container-id-5\" class=\"sk-top-container\"><div class=\"sk-text-repr-fallback\"><pre>LinearRegression()</pre><b>In a Jupyter environment, please rerun this cell to show the HTML representation or trust the notebook. <br />On GitHub, the HTML representation is unable to render, please try loading this page with nbviewer.org.</b></div><div class=\"sk-container\" hidden><div class=\"sk-item\"><div class=\"sk-estimator fitted sk-toggleable\"><input class=\"sk-toggleable__control sk-hidden--visually\" id=\"sk-estimator-id-5\" type=\"checkbox\" checked><label for=\"sk-estimator-id-5\" class=\"sk-toggleable__label fitted sk-toggleable__label-arrow\"><div><div>LinearRegression</div></div><div><a class=\"sk-estimator-doc-link fitted\" rel=\"noreferrer\" target=\"_blank\" href=\"https://scikit-learn.org/1.6/modules/generated/sklearn.linear_model.LinearRegression.html\">?<span>Documentation for LinearRegression</span></a><span class=\"sk-estimator-doc-link fitted\">i<span>Fitted</span></span></div></label><div class=\"sk-toggleable__content fitted\"><pre>LinearRegression()</pre></div> </div></div></div></div>"
<<<<<<< HEAD
            ],
            "text/plain": [
              "LinearRegression()"
            ]
          },
          "execution_count": 101,
          "metadata": {},
          "output_type": "execute_result"
        }
      ],
      "source": [
        "from sklearn.linear_model import LinearRegression  # For linear regression model\n",
        "model = LinearRegression()\n",
        "model.fit(X_train, y_train)"
=======
            ]
          },
          "metadata": {},
          "execution_count": 101
        }
>>>>>>> 44553d097760ac39607ebe122822a5c46932f2d4
      ]
    },
    {
      "cell_type": "code",
<<<<<<< HEAD
      "execution_count": null,
      "metadata": {
        "id": "6E7UXiiaj07I"
      },
      "outputs": [],
=======
>>>>>>> 44553d097760ac39607ebe122822a5c46932f2d4
      "source": [
        "# Predictions\n",
        "y_train_pred = model.predict(X_train)\n",
        "y_test_pred = model.predict(X_test)"
<<<<<<< HEAD
      ]
    },
    {
      "cell_type": "code",
      "execution_count": null,
      "metadata": {
        "colab": {
          "base_uri": "https://localhost:8080/"
        },
        "id": "n7n6M13Rj43g",
        "outputId": "55bad766-2c41-4e87-d61e-bd9479036acc"
      },
      "outputs": [
        {
          "name": "stdout",
          "output_type": "stream",
          "text": [
            "🔹 Train MSE: 981079366470.0052\n",
            "🔹 Test MSE: 1747758260816.2134\n",
            "🔹 Train R²: 0.681818190392428\n",
            "🔹 Test R²: 0.6542221839581839\n"
          ]
        }
      ],
=======
      ],
      "metadata": {
        "id": "6E7UXiiaj07I"
      },
      "execution_count": null,
      "outputs": []
    },
    {
      "cell_type": "code",
>>>>>>> 44553d097760ac39607ebe122822a5c46932f2d4
      "source": [
        "#MSE and R² Scores\n",
        "from sklearn.metrics import mean_squared_error, r2_score  # For performance metrics\n",
        "mse_train = mean_squared_error(y_train, y_train_pred)\n",
        "mse_test = mean_squared_error(y_test, y_test_pred)\n",
        "r2_train = r2_score(y_train, y_train_pred)\n",
        "r2_test = r2_score(y_test, y_test_pred)\n",
        "print(\"🔹 Train MSE:\", mse_train)\n",
        "print(\"🔹 Test MSE:\", mse_test)\n",
        "print(\"🔹 Train R²:\", r2_train)\n",
        "print(\"🔹 Test R²:\", r2_test)"
<<<<<<< HEAD
=======
      ],
      "metadata": {
        "colab": {
          "base_uri": "https://localhost:8080/"
        },
        "id": "n7n6M13Rj43g",
        "outputId": "55bad766-2c41-4e87-d61e-bd9479036acc"
      },
      "execution_count": null,
      "outputs": [
        {
          "output_type": "stream",
          "name": "stdout",
          "text": [
            "🔹 Train MSE: 981079366470.0052\n",
            "🔹 Test MSE: 1747758260816.2134\n",
            "🔹 Train R²: 0.681818190392428\n",
            "🔹 Test R²: 0.6542221839581839\n"
          ]
        }
>>>>>>> 44553d097760ac39607ebe122822a5c46932f2d4
      ]
    },
    {
      "cell_type": "code",
<<<<<<< HEAD
      "execution_count": null,
      "metadata": {
        "colab": {
          "base_uri": "https://localhost:8080/",
          "height": 487
        },
        "id": "626Sx-RTj_S8",
        "outputId": "222ce623-339f-4aaa-ad9d-04e81fd62694"
      },
      "outputs": [
        {
          "data": {
            "image/png": "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",
            "text/plain": [
              "<Figure size 800x500 with 1 Axes>"
            ]
          },
          "metadata": {},
          "output_type": "display_data"
        }
      ],
=======
>>>>>>> 44553d097760ac39607ebe122822a5c46932f2d4
      "source": [
        "import matplotlib.pyplot as plt  # For plotting\n",
        "plt.figure(figsize=(8,5))\n",
        "plt.scatter(y_test, y_test_pred, alpha=0.7, color='green')\n",
        "plt.plot([y.min(), y.max()], [y.min(), y.max()], 'r--')\n",
        "plt.xlabel(\"Actual Price\")\n",
        "plt.ylabel(\"Predicted Price\")\n",
        "plt.title(\"Actual vs Predicted House Price (Test Data)\")\n",
        "plt.grid(True)\n",
        "plt.show()"
<<<<<<< HEAD
      ]
    },
    {
      "cell_type": "code",
      "execution_count": null,
=======
      ],
>>>>>>> 44553d097760ac39607ebe122822a5c46932f2d4
      "metadata": {
        "colab": {
          "base_uri": "https://localhost:8080/",
          "height": 487
        },
<<<<<<< HEAD
        "id": "7Jx7PmL8kDeH",
        "outputId": "911c03a9-cec0-49f3-b139-4283f50eac62"
      },
      "outputs": [
        {
          "data": {
            "image/png": "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",
            "text/plain": [
              "<Figure size 800x500 with 1 Axes>"
            ]
          },
          "metadata": {},
          "output_type": "display_data"
        }
      ],
=======
        "id": "626Sx-RTj_S8",
        "outputId": "222ce623-339f-4aaa-ad9d-04e81fd62694"
      },
      "execution_count": null,
      "outputs": [
        {
          "output_type": "display_data",
          "data": {
            "text/plain": [
              "<Figure size 800x500 with 1 Axes>"
            ],
            "image/png": "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\n"
          },
          "metadata": {}
        }
      ]
    },
    {
      "cell_type": "code",
>>>>>>> 44553d097760ac39607ebe122822a5c46932f2d4
      "source": [
        "# Display coefficient values of each feature\n",
        "importance = model.coef_\n",
        "features = X.columns\n",
        "plt.figure(figsize=(8,5))\n",
        "plt.scatter(y_train, y_train_pred, alpha=0.6, color='blue')\n",
        "plt.plot([y.min(), y.max()], [y.min(), y.max()], 'r--')\n",
        "plt.xlabel(\"Actual Price\")\n",
        "plt.ylabel(\"Predicted Price\")\n",
        "plt.title(\"Actual vs Predicted House Price (Train Data)\")\n",
        "plt.grid(True)\n",
        "plt.show()"
<<<<<<< HEAD
      ]
    }
  ],
  "metadata": {
    "colab": {
      "provenance": []
    },
    "kernelspec": {
      "display_name": "Python 3",
      "name": "python3"
    },
    "language_info": {
      "name": "python"
    }
  },
  "nbformat": 4,
  "nbformat_minor": 0
}
=======
      ],
      "metadata": {
        "colab": {
          "base_uri": "https://localhost:8080/",
          "height": 487
        },
        "id": "7Jx7PmL8kDeH",
        "outputId": "911c03a9-cec0-49f3-b139-4283f50eac62"
      },
      "execution_count": null,
      "outputs": [
        {
          "output_type": "display_data",
          "data": {
            "text/plain": [
              "<Figure size 800x500 with 1 Axes>"
            ],
            "image/png": "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\n"
          },
          "metadata": {}
        }
      ]
    }
  ]
}
>>>>>>> 44553d097760ac39607ebe122822a5c46932f2d4
